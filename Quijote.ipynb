{
 "cells": [
  {
   "cell_type": "markdown",
   "id": "052254a1-5f17-4ed8-9a61-09da6bfa9069",
   "metadata": {},
   "source": [
    "# Código"
   ]
  },
  {
   "cell_type": "markdown",
   "id": "4c28483d-967a-4e26-a188-318e1b7f55b4",
   "metadata": {},
   "source": [
    "### Judith Urbina Córdoba\n",
    "### PEC3 Visualización de Datos"
   ]
  },
  {
   "cell_type": "code",
   "execution_count": 47,
   "id": "d6682f48-0071-4bbb-9661-12e6795fede6",
   "metadata": {},
   "outputs": [],
   "source": [
    "from IPython.display import IFrame\n",
    "\n",
    "# URL de la página del Quijote\n",
    "url = \"https://coleccionesdigitales.cervantes.es/digital/collection/quijote/search\""
   ]
  },
  {
   "cell_type": "code",
   "execution_count": 38,
   "id": "27d81f4c-c19d-4f3c-8682-9325049efc38",
   "metadata": {},
   "outputs": [],
   "source": [
    "import folium\n",
    "import pandas as pd\n",
    "\n",
    "# Crear el mapa vacío\n",
    "m = folium.Map(location=[20,0], tiles=\"OpenStreetMap\", zoom_start=2)\n",
    "\n",
    "# Datos proporcionados\n",
    "data = pd.DataFrame({\n",
    "    'lon': [\n",
    "        9.19, 18.0686, 4.9041, 2.1734, 20.4489, 19.0402, 6.7735, 8.5417, 14.5058,\n",
    "        -0.1276, 10.75, 2.3522, -46.6333, 24.7535, 139.6917, 25.2799, 15.9819, \n",
    "        -0.8877, 31.2357, -3.6934, 23.7275, 100.5018, -58.3816, 36.2765, 36.2765, \n",
    "        -6.2603, 35.2332, 24.9426, 34.8516, 28.9784, 12.5683, 19.9449, -8.6764, \n",
    "        -9.1393, 77.2910, 14.3754, 120.9842, 9.19, 37.6173, 118.7969, -74.006, \n",
    "        77.209, -1.2577, 24.8692, -8.611, 14.4378, 14.4378, -21.8174, 24.1052, \n",
    "        126.9780, 23.3219, 13.1216, 44.7866, 44.7866, 43.7, 41.9028, 76.2915, \n",
    "        79.922, 21.0122, -1.9574, 8.5417\n",
    "    ],\n",
    "    'lat': [\n",
    "        45.4642, 59.3293, 52.3676, 41.3851, 44.8176, 47.4979, 51.2277, 47.3769, 46.0569, \n",
    "        51.5074, 59.95, 48.8566, -23.5505, 59.4370, 35.6895, 54.6872, 45.8150, 41.6488, \n",
    "        30.0444, 40.4818, 37.9838, 13.7563, -34.6037, 33.5138, 33.5138, 53.3498, 33.8547, \n",
    "        60.1695, 31.0461, 41.0082, 55.6761, 50.0647, 43.1115, 38.7167, 28.6885, 35.9375, \n",
    "        14.5995, 45.4642, 55.7558, 32.0603, 40.7128, 28.6139, 51.7520, 44.8567, 41.1579, \n",
    "        50.0755, 50.0755, 64.1355, 56.9496, 37.5665, 42.6977, 59.3293, 41.6941, 35.6892, \n",
    "        41.3275, 30.8643, 45.0678, 8.5241, 21.0278, 52.2297, 43.2849\n",
    "    ],\n",
    "    'name': [\n",
    "        'Milán', 'Estocolmo', 'Ámsterdam', 'Barcelona', 'Belgrado', 'Budapest', 'Düsseldorf', 'Zúrich', 'Liubliana', \n",
    "        'Londres', 'Oslo', 'París', 'São Paulo', 'Tallin', 'Tokio', 'Vilnius', 'Zagreb', 'Zaragoza', \n",
    "        'El Cairo', 'Alcalá de Henares', 'Atenas', 'Bangkok', 'Buenos Aires', 'Damasco', 'Dimashq', \n",
    "        'Dublín', 'El Líbano', 'Helsinki', 'Israel', 'Estambul', 'Copenhague', 'Cracovia', 'Laracha (La Coruña)', \n",
    "        'Lisboa', 'Nueva Delhi', 'Malta', 'Manila', 'Milán', 'Moscú', 'Nankín', 'Nueva York', \n",
    "        'Nueva Delhi', 'Oxford', 'Bucarest', 'Oporto', 'Praga', 'Praga', 'Reykjavík', 'Riga', \n",
    "        'Seúl', 'Sofía', 'Estocolmo-Stehag', 'Tbilisi', 'Teherán', 'Tirana', 'Zhejiang', 'Turín', \n",
    "        'Trivandrum', 'Viet Hung', 'Varsovia', 'Zarautz'\n",
    "    ]\n",
    "})\n",
    "\n",
    "# Añadir marcadores uno por uno en el mapa\n",
    "for i in range(len(data)):\n",
    "    folium.Marker(\n",
    "        location=[data.iloc[i]['lat'], data.iloc[i]['lon']],\n",
    "        popup=data.iloc[i]['name']\n",
    "    ).add_to(m)\n",
    "m.save('localiz.html')"
   ]
  },
  {
   "cell_type": "code",
   "execution_count": 27,
   "id": "2a6d02a1-f570-40ac-9bc9-57984bfa8714",
   "metadata": {},
   "outputs": [],
   "source": [
    "import pandas as pd\n",
    "import plotly.express as px\n",
    "\n",
    "# Datos proporcionados\n",
    "df = pd.DataFrame({\n",
    "    'n_ediciones': [\n",
    "        5, 4, 4, 4, 4, 3, 2, 2, 2, 2, 2, 2, 2, 2, 2, 2, 2, 2, 2, 2, 2, 2, 1, 1, 1, 1, 1, 1, 1, 1, 1, 1, 1, 1, 1, 1, 1, 1, 1, 1, 1, 1, 1, 1, 1, 1, 1\n",
    "    ],\n",
    "    'lenguas': [\n",
    "        \"Italiano\", \"Árabe\", \"Inglés\", \"Portugués\", \"Sueco\", \"Alemán\", \"Catalán\", \"Checo\", \"Chino\", \"Croata\", \"Danés\", \"Esloveno\", \"Estonio\", \"Francés\", \"Hindi\", \"Holandés\", \"Húngaro\", \"Japonés\", \"Lituano\", \"Noruego\", \"Polaco\", \"Serbio\", \"Albanés\", \"Búlgaro\", \"Coreano\", \"Español\", \"Esperanto\", \"Euskera\", \"Finés\", \"Gaélico\", \"Gallego\", \"Georgiano\", \"Griego\", \"Hebreo\", \"Islandés\", \"Latín clásico\", \"Letón\", \"Malayalam\", \"Maltés\", \"Persa\", \"Rumano\", \"Ruso\", \"Tagalo\", \"Tailandés\", \"Turco\", \"Vietnamita\", \"Yidis\"\n",
    "    ]\n",
    "})\n",
    "\n",
    "# Crear el treemap\n",
    "fig2 = px.treemap(df, path=['lenguas'], values='n_ediciones',\n",
    "                 color='n_ediciones', color_continuous_scale='Blues')\n",
    "\n",
    "# Eliminar ejes y ajustar el texto\n",
    "fig2.update_traces()\n",
    "# Guardar como HTML\n",
    "fig2.write_html('lenguas_frecuencia.html')"
   ]
  },
  {
   "cell_type": "code",
   "execution_count": 13,
   "id": "5daafba3-2287-4283-981c-8e3de8fa2245",
   "metadata": {},
   "outputs": [],
   "source": [
    "import pandas as pd\n",
    "import plotly.express as px\n",
    "\n",
    "# Función para dividir el texto en líneas después de cada 9 palabras\n",
    "def split_text(text, n=6):\n",
    "    words = text.split()\n",
    "    return '<br>'.join([' '.join(words[i:i+n]) for i in range(0, len(words), n)])\n",
    "\n",
    "# Datos\n",
    "df = pd.DataFrame({\n",
    "    \"names\": ['Lenguas', 'Euskera', 'Esperanto', 'Latín clásico', 'Gallego', 'Yídish',\n",
    "              split_text('El euskera es la lengua viva más antigua de Europa. La mayoría de lingüistas, expertos e investigadores así lo afirman. El euskera es una lengua muy antigua cuyos orígenes aún se desconocen. Lingüistas e historiadores de renombre creen que puede ser descendiente directo de la lengua hablada por los habitantes de las cuevas de Altamira, Ekain o Lascaux.'),\n",
    "              split_text('El esperanto es la lengua planificada internacional más difundida y hablada en el mundo.​ El nombre proviene del seudónimo que L. L. Zamenhof, un oftalmólogo polaco, utilizó para publicar las bases del idioma en 1887.'),\n",
    "              split_text('Podemos considerar que el latín clásico es la lengua hablada por las clases cultas romanas desde aproximadamente el siglo II a.C. hasta aproximadamente el siglo II d.C.'),\n",
    "              split_text('El gallego es un idioma romance derivado del latín mientras que el gaélico pertenece a la rama celta. La similitud de sus nombres es algo anecdótico, tienen tanto parecido como el inglés y las ingles.'),\n",
    "              split_text('El yiddish es un idioma que alguna vez hablaron judíos en un área que se extendía desde Alsacia hasta los Urales, influenciado e influenciado por los idiomas y culturas locales. Estuvo a punto de extinguirse en el siglo XX, cuando perdió a la mayoría de sus hablantes, principalmente (pero no sólo) a través del Holocausto.'),\n",
    "              split_text('https://www.bizkaiatalent.eus/en/pais-vasco-te-espera/senas-de-identidad/euskera-antigua-europa/#:~:text=Euskera%20is%20the%20oldest%20living,of%20Altamira%2C%20Ekain%20or%20Lascaux'),\n",
    "              'https://es.wikipedia.org/wiki/Esperanto',\n",
    "              'https://www.uv.es/ivorra/Latin/evolucion.htm',\n",
    "              'https://es.quora.com/Se-parecen-el-idioma-ga%C3%A9lico-y-el-gallego#:~:text=El%20gallego%20es%20un%20idioma,el%20ingl%C3%A9s%20y%20las%20ingles',\n",
    "              split_text('https://www.europarl.europa.eu/thinktank/en/document/EPRS_BRI(2022)698881#:~:text=Yiddish%20is%20a%20language%20once,not%20only%20%E2%80%93%20through%20the%20Holocaust')],\n",
    "    \"parents\": ['', 'Lenguas', 'Lenguas', 'Lenguas', 'Lenguas', 'Lenguas',\n",
    "               'Euskera', 'Esperanto', 'Latín clásico', 'Gallego', 'Yídish',\n",
    "               'Euskera', 'Esperanto', 'Latín clásico', 'Gallego', 'Yídish']\n",
    "})"
   ]
  },
  {
   "cell_type": "code",
   "execution_count": 14,
   "id": "6b6ba2f4-0d70-4b33-966c-57bf3b15a434",
   "metadata": {},
   "outputs": [],
   "source": [
    "# Crear el treemap\n",
    "fig = px.treemap(df, names='names', parents='parents')\n",
    "\n",
    "# Actualizar los trazos\n",
    "fig.update_traces()\n",
    "\n",
    "# Guardar como HTML\n",
    "fig.write_html('lenguas_poco_comunes.html')"
   ]
  },
  {
   "cell_type": "code",
   "execution_count": 46,
   "id": "722f4d7e-2fd8-4564-bd12-96c9a8034d3f",
   "metadata": {},
   "outputs": [
    {
     "data": {
      "text/plain": [
       "<wordcloud.wordcloud.WordCloud at 0x72d54c89b040>"
      ]
     },
     "execution_count": 46,
     "metadata": {},
     "output_type": "execute_result"
    }
   ],
   "source": [
    "from wordcloud import WordCloud\n",
    "import matplotlib.pyplot as plt\n",
    "import numpy as np\n",
    "from PIL import Image\n",
    "\n",
    "# Listado de palabras con sus frecuencias\n",
    "text = (\n",
    "    \"Italiano \" * 5 + \"Árabe \" * 4 + \"Inglés \" * 4 + \"Portugués \" * 4 + \"Sueco \" * 4 +\n",
    "    \"Alemán \" * 3 + \"Catalán \" * 2 + \"Checo \" * 2 + \"Chino \" * 2 + \"Croata \" * 2 +\n",
    "    \"Danés \" * 2 + \"Esloveno \" * 2 + \"Estonio \" * 2 + \"Francés \" * 2 + \"Hindi \" * 2 +\n",
    "    \"Holandés \" * 2 + \"Húngaro \" * 2 + \"Japonés \" * 2 + \"Lituano \" * 2 + \"Noruego \" * 2 +\n",
    "    \"Polaco \" * 2 + \"Serbio \" * 2 + \"Albanés \" + \"Búlgaro \" + \"Coreano \" + \"Español \" +\n",
    "    \"Esperanto \" + \"Euskera \" + \"Finés \" + \"Gaélico \" + \"Gallego \" + \"Georgiano \" + \n",
    "    \"Griego \" + \"Hebreo \" + \"Islandés \" + \"Latín clásico \" + \"Letón \" + \"Malayalam \" + \n",
    "    \"Maltés \" + \"Persa \" + \"Rumano \" + \"Ruso \" + \"Tagalo \" + \"Tailandés \" + \"Turco \" + \n",
    "    \"Vietnamita \" + \"Yidis \"\n",
    ")\n",
    "\n",
    "# Cargar la imagen de la máscara\n",
    "girl_mask = np.array(Image.open('silueta.jpg'))\n",
    "\n",
    "# Crear el word cloud\n",
    "wc = WordCloud(background_color=\"white\", mask=girl_mask, contour_width=6, contour_color='steelblue')\n",
    "wc.generate(text)\n",
    "# Guardar el word cloud como archivo\n",
    "wc.to_file('idiomas_wordclouds.png')\n",
    "# Mostrar el word cloud"
   ]
  },
  {
   "cell_type": "markdown",
   "id": "975878d1-020a-41b1-b1f3-7b28fe0e3777",
   "metadata": {},
   "source": [
    "# Traducciones del Quijote:\n",
    "# ¿Podemos afirmar que el Quijote es apreciado mundialmente y nacionalmente?"
   ]
  },
  {
   "cell_type": "markdown",
   "id": "bcadc534-6ad5-4f8a-a439-1d756f3e88ad",
   "metadata": {},
   "source": [
    "## Usaremos la colección del Instituto Cervantes"
   ]
  },
  {
   "cell_type": "code",
   "execution_count": 42,
   "id": "f45fef03-7c05-4bc1-a9a0-ce20f741e558",
   "metadata": {},
   "outputs": [
    {
     "data": {
      "text/html": [
       "\n",
       "        <iframe\n",
       "            width=\"800\"\n",
       "            height=\"600\"\n",
       "            src=\"https://coleccionesdigitales.cervantes.es/digital/collection/quijote/search\"\n",
       "            frameborder=\"0\"\n",
       "            allowfullscreen\n",
       "            \n",
       "        ></iframe>\n",
       "        "
      ],
      "text/plain": [
       "<IPython.lib.display.IFrame at 0x72d54c7a0fd0>"
      ]
     },
     "execution_count": 42,
     "metadata": {},
     "output_type": "execute_result"
    }
   ],
   "source": [
    "IFrame(url, width=800, height=600)"
   ]
  },
  {
   "cell_type": "markdown",
   "id": "71e32751-3936-4c05-947b-638e9d825da6",
   "metadata": {},
   "source": [
    "## ¿En qué lugares ha habido una publicación del Quijote?"
   ]
  },
  {
   "cell_type": "code",
   "execution_count": 39,
   "id": "9df1ea9c-211d-4d2c-94c6-8b39e3cc961c",
   "metadata": {
    "scrolled": true
   },
   "outputs": [
    {
     "data": {
      "text/html": [
       "<div style=\"width:100%;\"><div style=\"position:relative;width:100%;height:0;padding-bottom:60%;\"><span style=\"color:#565656\">Make this Notebook Trusted to load map: File -> Trust Notebook</span><iframe srcdoc=\"&lt;!DOCTYPE html&gt;\n",
       "&lt;html&gt;\n",
       "&lt;head&gt;\n",
       "    \n",
       "    &lt;meta http-equiv=&quot;content-type&quot; content=&quot;text/html; charset=UTF-8&quot; /&gt;\n",
       "    \n",
       "        &lt;script&gt;\n",
       "            L_NO_TOUCH = false;\n",
       "            L_DISABLE_3D = false;\n",
       "        &lt;/script&gt;\n",
       "    \n",
       "    &lt;style&gt;html, body {width: 100%;height: 100%;margin: 0;padding: 0;}&lt;/style&gt;\n",
       "    &lt;style&gt;#map {position:absolute;top:0;bottom:0;right:0;left:0;}&lt;/style&gt;\n",
       "    &lt;script src=&quot;https://cdn.jsdelivr.net/npm/leaflet@1.9.3/dist/leaflet.js&quot;&gt;&lt;/script&gt;\n",
       "    &lt;script src=&quot;https://code.jquery.com/jquery-3.7.1.min.js&quot;&gt;&lt;/script&gt;\n",
       "    &lt;script src=&quot;https://cdn.jsdelivr.net/npm/bootstrap@5.2.2/dist/js/bootstrap.bundle.min.js&quot;&gt;&lt;/script&gt;\n",
       "    &lt;script src=&quot;https://cdnjs.cloudflare.com/ajax/libs/Leaflet.awesome-markers/2.0.2/leaflet.awesome-markers.js&quot;&gt;&lt;/script&gt;\n",
       "    &lt;link rel=&quot;stylesheet&quot; href=&quot;https://cdn.jsdelivr.net/npm/leaflet@1.9.3/dist/leaflet.css&quot;/&gt;\n",
       "    &lt;link rel=&quot;stylesheet&quot; href=&quot;https://cdn.jsdelivr.net/npm/bootstrap@5.2.2/dist/css/bootstrap.min.css&quot;/&gt;\n",
       "    &lt;link rel=&quot;stylesheet&quot; href=&quot;https://netdna.bootstrapcdn.com/bootstrap/3.0.0/css/bootstrap.min.css&quot;/&gt;\n",
       "    &lt;link rel=&quot;stylesheet&quot; href=&quot;https://cdn.jsdelivr.net/npm/@fortawesome/fontawesome-free@6.2.0/css/all.min.css&quot;/&gt;\n",
       "    &lt;link rel=&quot;stylesheet&quot; href=&quot;https://cdnjs.cloudflare.com/ajax/libs/Leaflet.awesome-markers/2.0.2/leaflet.awesome-markers.css&quot;/&gt;\n",
       "    &lt;link rel=&quot;stylesheet&quot; href=&quot;https://cdn.jsdelivr.net/gh/python-visualization/folium/folium/templates/leaflet.awesome.rotate.min.css&quot;/&gt;\n",
       "    \n",
       "            &lt;meta name=&quot;viewport&quot; content=&quot;width=device-width,\n",
       "                initial-scale=1.0, maximum-scale=1.0, user-scalable=no&quot; /&gt;\n",
       "            &lt;style&gt;\n",
       "                #map_3d03da9980c036e74ab06c90a882aba4 {\n",
       "                    position: relative;\n",
       "                    width: 100.0%;\n",
       "                    height: 100.0%;\n",
       "                    left: 0.0%;\n",
       "                    top: 0.0%;\n",
       "                }\n",
       "                .leaflet-container { font-size: 1rem; }\n",
       "            &lt;/style&gt;\n",
       "        \n",
       "&lt;/head&gt;\n",
       "&lt;body&gt;\n",
       "    \n",
       "    \n",
       "            &lt;div class=&quot;folium-map&quot; id=&quot;map_3d03da9980c036e74ab06c90a882aba4&quot; &gt;&lt;/div&gt;\n",
       "        \n",
       "&lt;/body&gt;\n",
       "&lt;script&gt;\n",
       "    \n",
       "    \n",
       "            var map_3d03da9980c036e74ab06c90a882aba4 = L.map(\n",
       "                &quot;map_3d03da9980c036e74ab06c90a882aba4&quot;,\n",
       "                {\n",
       "                    center: [20.0, 0.0],\n",
       "                    crs: L.CRS.EPSG3857,\n",
       "                    zoom: 2,\n",
       "                    zoomControl: true,\n",
       "                    preferCanvas: false,\n",
       "                }\n",
       "            );\n",
       "\n",
       "            \n",
       "\n",
       "        \n",
       "    \n",
       "            var tile_layer_78d035196c34c946140c41422520f6b3 = L.tileLayer(\n",
       "                &quot;https://tile.openstreetmap.org/{z}/{x}/{y}.png&quot;,\n",
       "                {&quot;attribution&quot;: &quot;\\u0026copy; \\u003ca href=\\&quot;https://www.openstreetmap.org/copyright\\&quot;\\u003eOpenStreetMap\\u003c/a\\u003e contributors&quot;, &quot;detectRetina&quot;: false, &quot;maxNativeZoom&quot;: 19, &quot;maxZoom&quot;: 19, &quot;minZoom&quot;: 0, &quot;noWrap&quot;: false, &quot;opacity&quot;: 1, &quot;subdomains&quot;: &quot;abc&quot;, &quot;tms&quot;: false}\n",
       "            );\n",
       "        \n",
       "    \n",
       "            tile_layer_78d035196c34c946140c41422520f6b3.addTo(map_3d03da9980c036e74ab06c90a882aba4);\n",
       "        \n",
       "    \n",
       "            var marker_095b332ead55f2f037833153512eb40d = L.marker(\n",
       "                [45.4642, 9.19],\n",
       "                {}\n",
       "            ).addTo(map_3d03da9980c036e74ab06c90a882aba4);\n",
       "        \n",
       "    \n",
       "        var popup_272c1073b20327eab71a2ea7650c7c51 = L.popup({&quot;maxWidth&quot;: &quot;100%&quot;});\n",
       "\n",
       "        \n",
       "            \n",
       "                var html_0e06cf78da539fdbbe9013768dac6638 = $(`&lt;div id=&quot;html_0e06cf78da539fdbbe9013768dac6638&quot; style=&quot;width: 100.0%; height: 100.0%;&quot;&gt;Milán&lt;/div&gt;`)[0];\n",
       "                popup_272c1073b20327eab71a2ea7650c7c51.setContent(html_0e06cf78da539fdbbe9013768dac6638);\n",
       "            \n",
       "        \n",
       "\n",
       "        marker_095b332ead55f2f037833153512eb40d.bindPopup(popup_272c1073b20327eab71a2ea7650c7c51)\n",
       "        ;\n",
       "\n",
       "        \n",
       "    \n",
       "    \n",
       "            var marker_35950eaff8f45526adcb33a77ba310de = L.marker(\n",
       "                [59.3293, 18.0686],\n",
       "                {}\n",
       "            ).addTo(map_3d03da9980c036e74ab06c90a882aba4);\n",
       "        \n",
       "    \n",
       "        var popup_68976b59a93ac6906dc9d40159aa70fd = L.popup({&quot;maxWidth&quot;: &quot;100%&quot;});\n",
       "\n",
       "        \n",
       "            \n",
       "                var html_6c2e0d7b44d57d2663788d46a73fb088 = $(`&lt;div id=&quot;html_6c2e0d7b44d57d2663788d46a73fb088&quot; style=&quot;width: 100.0%; height: 100.0%;&quot;&gt;Estocolmo&lt;/div&gt;`)[0];\n",
       "                popup_68976b59a93ac6906dc9d40159aa70fd.setContent(html_6c2e0d7b44d57d2663788d46a73fb088);\n",
       "            \n",
       "        \n",
       "\n",
       "        marker_35950eaff8f45526adcb33a77ba310de.bindPopup(popup_68976b59a93ac6906dc9d40159aa70fd)\n",
       "        ;\n",
       "\n",
       "        \n",
       "    \n",
       "    \n",
       "            var marker_d981d415846e22968b6f2ffb674d1945 = L.marker(\n",
       "                [52.3676, 4.9041],\n",
       "                {}\n",
       "            ).addTo(map_3d03da9980c036e74ab06c90a882aba4);\n",
       "        \n",
       "    \n",
       "        var popup_a9d346993a64ab9bbcdb47d167c641b8 = L.popup({&quot;maxWidth&quot;: &quot;100%&quot;});\n",
       "\n",
       "        \n",
       "            \n",
       "                var html_b60515d12ceb24477b2c65df1776c24c = $(`&lt;div id=&quot;html_b60515d12ceb24477b2c65df1776c24c&quot; style=&quot;width: 100.0%; height: 100.0%;&quot;&gt;Ámsterdam&lt;/div&gt;`)[0];\n",
       "                popup_a9d346993a64ab9bbcdb47d167c641b8.setContent(html_b60515d12ceb24477b2c65df1776c24c);\n",
       "            \n",
       "        \n",
       "\n",
       "        marker_d981d415846e22968b6f2ffb674d1945.bindPopup(popup_a9d346993a64ab9bbcdb47d167c641b8)\n",
       "        ;\n",
       "\n",
       "        \n",
       "    \n",
       "    \n",
       "            var marker_eff4aba1f1728b6c52a873e832cc497a = L.marker(\n",
       "                [41.3851, 2.1734],\n",
       "                {}\n",
       "            ).addTo(map_3d03da9980c036e74ab06c90a882aba4);\n",
       "        \n",
       "    \n",
       "        var popup_08a5aa16f5913c1887f19ab2bb407654 = L.popup({&quot;maxWidth&quot;: &quot;100%&quot;});\n",
       "\n",
       "        \n",
       "            \n",
       "                var html_d53bd13907d48b8618c8ca49c2f62d1c = $(`&lt;div id=&quot;html_d53bd13907d48b8618c8ca49c2f62d1c&quot; style=&quot;width: 100.0%; height: 100.0%;&quot;&gt;Barcelona&lt;/div&gt;`)[0];\n",
       "                popup_08a5aa16f5913c1887f19ab2bb407654.setContent(html_d53bd13907d48b8618c8ca49c2f62d1c);\n",
       "            \n",
       "        \n",
       "\n",
       "        marker_eff4aba1f1728b6c52a873e832cc497a.bindPopup(popup_08a5aa16f5913c1887f19ab2bb407654)\n",
       "        ;\n",
       "\n",
       "        \n",
       "    \n",
       "    \n",
       "            var marker_ec30a956ea134bf006a08966c0c061d7 = L.marker(\n",
       "                [44.8176, 20.4489],\n",
       "                {}\n",
       "            ).addTo(map_3d03da9980c036e74ab06c90a882aba4);\n",
       "        \n",
       "    \n",
       "        var popup_a171d2b63e6d58af61f186b06b1486ac = L.popup({&quot;maxWidth&quot;: &quot;100%&quot;});\n",
       "\n",
       "        \n",
       "            \n",
       "                var html_3dcde24f9b94102b13c9fe53ae57b145 = $(`&lt;div id=&quot;html_3dcde24f9b94102b13c9fe53ae57b145&quot; style=&quot;width: 100.0%; height: 100.0%;&quot;&gt;Belgrado&lt;/div&gt;`)[0];\n",
       "                popup_a171d2b63e6d58af61f186b06b1486ac.setContent(html_3dcde24f9b94102b13c9fe53ae57b145);\n",
       "            \n",
       "        \n",
       "\n",
       "        marker_ec30a956ea134bf006a08966c0c061d7.bindPopup(popup_a171d2b63e6d58af61f186b06b1486ac)\n",
       "        ;\n",
       "\n",
       "        \n",
       "    \n",
       "    \n",
       "            var marker_cad399e6dc86380de4fa23d9ca2f7a97 = L.marker(\n",
       "                [47.4979, 19.0402],\n",
       "                {}\n",
       "            ).addTo(map_3d03da9980c036e74ab06c90a882aba4);\n",
       "        \n",
       "    \n",
       "        var popup_86b643ed4561f5b0656efe4cd3a54a5a = L.popup({&quot;maxWidth&quot;: &quot;100%&quot;});\n",
       "\n",
       "        \n",
       "            \n",
       "                var html_47a437fb44fa28fbc2a21d107e808368 = $(`&lt;div id=&quot;html_47a437fb44fa28fbc2a21d107e808368&quot; style=&quot;width: 100.0%; height: 100.0%;&quot;&gt;Budapest&lt;/div&gt;`)[0];\n",
       "                popup_86b643ed4561f5b0656efe4cd3a54a5a.setContent(html_47a437fb44fa28fbc2a21d107e808368);\n",
       "            \n",
       "        \n",
       "\n",
       "        marker_cad399e6dc86380de4fa23d9ca2f7a97.bindPopup(popup_86b643ed4561f5b0656efe4cd3a54a5a)\n",
       "        ;\n",
       "\n",
       "        \n",
       "    \n",
       "    \n",
       "            var marker_2a5a448a75ff4f6cb19f8b876363560d = L.marker(\n",
       "                [51.2277, 6.7735],\n",
       "                {}\n",
       "            ).addTo(map_3d03da9980c036e74ab06c90a882aba4);\n",
       "        \n",
       "    \n",
       "        var popup_d18d327744764ca28183772e4304d070 = L.popup({&quot;maxWidth&quot;: &quot;100%&quot;});\n",
       "\n",
       "        \n",
       "            \n",
       "                var html_af44c0683c459b6a0a4e1d9543f07685 = $(`&lt;div id=&quot;html_af44c0683c459b6a0a4e1d9543f07685&quot; style=&quot;width: 100.0%; height: 100.0%;&quot;&gt;Düsseldorf&lt;/div&gt;`)[0];\n",
       "                popup_d18d327744764ca28183772e4304d070.setContent(html_af44c0683c459b6a0a4e1d9543f07685);\n",
       "            \n",
       "        \n",
       "\n",
       "        marker_2a5a448a75ff4f6cb19f8b876363560d.bindPopup(popup_d18d327744764ca28183772e4304d070)\n",
       "        ;\n",
       "\n",
       "        \n",
       "    \n",
       "    \n",
       "            var marker_99a59f47a0c5d22954e5a0f240c0ca5c = L.marker(\n",
       "                [47.3769, 8.5417],\n",
       "                {}\n",
       "            ).addTo(map_3d03da9980c036e74ab06c90a882aba4);\n",
       "        \n",
       "    \n",
       "        var popup_78d7c32e64bb5ff758cf1fe2eb0829de = L.popup({&quot;maxWidth&quot;: &quot;100%&quot;});\n",
       "\n",
       "        \n",
       "            \n",
       "                var html_ca42b064562813713394d8e91e191838 = $(`&lt;div id=&quot;html_ca42b064562813713394d8e91e191838&quot; style=&quot;width: 100.0%; height: 100.0%;&quot;&gt;Zúrich&lt;/div&gt;`)[0];\n",
       "                popup_78d7c32e64bb5ff758cf1fe2eb0829de.setContent(html_ca42b064562813713394d8e91e191838);\n",
       "            \n",
       "        \n",
       "\n",
       "        marker_99a59f47a0c5d22954e5a0f240c0ca5c.bindPopup(popup_78d7c32e64bb5ff758cf1fe2eb0829de)\n",
       "        ;\n",
       "\n",
       "        \n",
       "    \n",
       "    \n",
       "            var marker_6397121ccdf54b3fcf03bdbb5c8659d3 = L.marker(\n",
       "                [46.0569, 14.5058],\n",
       "                {}\n",
       "            ).addTo(map_3d03da9980c036e74ab06c90a882aba4);\n",
       "        \n",
       "    \n",
       "        var popup_760b25c6fae3f68cc4eb792657691570 = L.popup({&quot;maxWidth&quot;: &quot;100%&quot;});\n",
       "\n",
       "        \n",
       "            \n",
       "                var html_0409d990f461bd2203397f3edb81d6cf = $(`&lt;div id=&quot;html_0409d990f461bd2203397f3edb81d6cf&quot; style=&quot;width: 100.0%; height: 100.0%;&quot;&gt;Liubliana&lt;/div&gt;`)[0];\n",
       "                popup_760b25c6fae3f68cc4eb792657691570.setContent(html_0409d990f461bd2203397f3edb81d6cf);\n",
       "            \n",
       "        \n",
       "\n",
       "        marker_6397121ccdf54b3fcf03bdbb5c8659d3.bindPopup(popup_760b25c6fae3f68cc4eb792657691570)\n",
       "        ;\n",
       "\n",
       "        \n",
       "    \n",
       "    \n",
       "            var marker_e61cf39b6a647346bf1d8fda0d748f89 = L.marker(\n",
       "                [51.5074, -0.1276],\n",
       "                {}\n",
       "            ).addTo(map_3d03da9980c036e74ab06c90a882aba4);\n",
       "        \n",
       "    \n",
       "        var popup_f3395ebeb7de73414c787869f366c3b9 = L.popup({&quot;maxWidth&quot;: &quot;100%&quot;});\n",
       "\n",
       "        \n",
       "            \n",
       "                var html_ad2382d97a252fa78551197eb92d9857 = $(`&lt;div id=&quot;html_ad2382d97a252fa78551197eb92d9857&quot; style=&quot;width: 100.0%; height: 100.0%;&quot;&gt;Londres&lt;/div&gt;`)[0];\n",
       "                popup_f3395ebeb7de73414c787869f366c3b9.setContent(html_ad2382d97a252fa78551197eb92d9857);\n",
       "            \n",
       "        \n",
       "\n",
       "        marker_e61cf39b6a647346bf1d8fda0d748f89.bindPopup(popup_f3395ebeb7de73414c787869f366c3b9)\n",
       "        ;\n",
       "\n",
       "        \n",
       "    \n",
       "    \n",
       "            var marker_ad2c6ff72fb4d31930b906ad3cf5c792 = L.marker(\n",
       "                [59.95, 10.75],\n",
       "                {}\n",
       "            ).addTo(map_3d03da9980c036e74ab06c90a882aba4);\n",
       "        \n",
       "    \n",
       "        var popup_34beb2078fe976a5f07c6ce482e1ccc6 = L.popup({&quot;maxWidth&quot;: &quot;100%&quot;});\n",
       "\n",
       "        \n",
       "            \n",
       "                var html_5aec4f8b6231df8b27c01c5206dd7d1e = $(`&lt;div id=&quot;html_5aec4f8b6231df8b27c01c5206dd7d1e&quot; style=&quot;width: 100.0%; height: 100.0%;&quot;&gt;Oslo&lt;/div&gt;`)[0];\n",
       "                popup_34beb2078fe976a5f07c6ce482e1ccc6.setContent(html_5aec4f8b6231df8b27c01c5206dd7d1e);\n",
       "            \n",
       "        \n",
       "\n",
       "        marker_ad2c6ff72fb4d31930b906ad3cf5c792.bindPopup(popup_34beb2078fe976a5f07c6ce482e1ccc6)\n",
       "        ;\n",
       "\n",
       "        \n",
       "    \n",
       "    \n",
       "            var marker_302bad78813e391e7c5e415dcba874d7 = L.marker(\n",
       "                [48.8566, 2.3522],\n",
       "                {}\n",
       "            ).addTo(map_3d03da9980c036e74ab06c90a882aba4);\n",
       "        \n",
       "    \n",
       "        var popup_31bb469c7d66d5565a579462ae8a1892 = L.popup({&quot;maxWidth&quot;: &quot;100%&quot;});\n",
       "\n",
       "        \n",
       "            \n",
       "                var html_b77a10fa07f4e91d8f590c1f26c52d18 = $(`&lt;div id=&quot;html_b77a10fa07f4e91d8f590c1f26c52d18&quot; style=&quot;width: 100.0%; height: 100.0%;&quot;&gt;París&lt;/div&gt;`)[0];\n",
       "                popup_31bb469c7d66d5565a579462ae8a1892.setContent(html_b77a10fa07f4e91d8f590c1f26c52d18);\n",
       "            \n",
       "        \n",
       "\n",
       "        marker_302bad78813e391e7c5e415dcba874d7.bindPopup(popup_31bb469c7d66d5565a579462ae8a1892)\n",
       "        ;\n",
       "\n",
       "        \n",
       "    \n",
       "    \n",
       "            var marker_eecc759eca73511053bdea0e23911579 = L.marker(\n",
       "                [-23.5505, -46.6333],\n",
       "                {}\n",
       "            ).addTo(map_3d03da9980c036e74ab06c90a882aba4);\n",
       "        \n",
       "    \n",
       "        var popup_3d5b4347b98380669569cb4882d1e31b = L.popup({&quot;maxWidth&quot;: &quot;100%&quot;});\n",
       "\n",
       "        \n",
       "            \n",
       "                var html_6287a2e475ab13b38c3ac692a8f3ad83 = $(`&lt;div id=&quot;html_6287a2e475ab13b38c3ac692a8f3ad83&quot; style=&quot;width: 100.0%; height: 100.0%;&quot;&gt;São Paulo&lt;/div&gt;`)[0];\n",
       "                popup_3d5b4347b98380669569cb4882d1e31b.setContent(html_6287a2e475ab13b38c3ac692a8f3ad83);\n",
       "            \n",
       "        \n",
       "\n",
       "        marker_eecc759eca73511053bdea0e23911579.bindPopup(popup_3d5b4347b98380669569cb4882d1e31b)\n",
       "        ;\n",
       "\n",
       "        \n",
       "    \n",
       "    \n",
       "            var marker_2530189a7cadc19cad497943161ed8cb = L.marker(\n",
       "                [59.437, 24.7535],\n",
       "                {}\n",
       "            ).addTo(map_3d03da9980c036e74ab06c90a882aba4);\n",
       "        \n",
       "    \n",
       "        var popup_2166de078cce936bd1f76aff3fe0e506 = L.popup({&quot;maxWidth&quot;: &quot;100%&quot;});\n",
       "\n",
       "        \n",
       "            \n",
       "                var html_c6463d654b3e77d4987e855619a46765 = $(`&lt;div id=&quot;html_c6463d654b3e77d4987e855619a46765&quot; style=&quot;width: 100.0%; height: 100.0%;&quot;&gt;Tallin&lt;/div&gt;`)[0];\n",
       "                popup_2166de078cce936bd1f76aff3fe0e506.setContent(html_c6463d654b3e77d4987e855619a46765);\n",
       "            \n",
       "        \n",
       "\n",
       "        marker_2530189a7cadc19cad497943161ed8cb.bindPopup(popup_2166de078cce936bd1f76aff3fe0e506)\n",
       "        ;\n",
       "\n",
       "        \n",
       "    \n",
       "    \n",
       "            var marker_2ab9b25b1121da15e2863583d1132aca = L.marker(\n",
       "                [35.6895, 139.6917],\n",
       "                {}\n",
       "            ).addTo(map_3d03da9980c036e74ab06c90a882aba4);\n",
       "        \n",
       "    \n",
       "        var popup_ac2099cb626a8b7cce723ab1d8a9ea73 = L.popup({&quot;maxWidth&quot;: &quot;100%&quot;});\n",
       "\n",
       "        \n",
       "            \n",
       "                var html_d9c53805fe5a783ca6aee8f683bc4162 = $(`&lt;div id=&quot;html_d9c53805fe5a783ca6aee8f683bc4162&quot; style=&quot;width: 100.0%; height: 100.0%;&quot;&gt;Tokio&lt;/div&gt;`)[0];\n",
       "                popup_ac2099cb626a8b7cce723ab1d8a9ea73.setContent(html_d9c53805fe5a783ca6aee8f683bc4162);\n",
       "            \n",
       "        \n",
       "\n",
       "        marker_2ab9b25b1121da15e2863583d1132aca.bindPopup(popup_ac2099cb626a8b7cce723ab1d8a9ea73)\n",
       "        ;\n",
       "\n",
       "        \n",
       "    \n",
       "    \n",
       "            var marker_e5bd7359b2feedcaff7dbd4ac10ee013 = L.marker(\n",
       "                [54.6872, 25.2799],\n",
       "                {}\n",
       "            ).addTo(map_3d03da9980c036e74ab06c90a882aba4);\n",
       "        \n",
       "    \n",
       "        var popup_56cdcd5cd54c4fda084d1104ec7a993e = L.popup({&quot;maxWidth&quot;: &quot;100%&quot;});\n",
       "\n",
       "        \n",
       "            \n",
       "                var html_95231be4add81575fcdc31d66db42072 = $(`&lt;div id=&quot;html_95231be4add81575fcdc31d66db42072&quot; style=&quot;width: 100.0%; height: 100.0%;&quot;&gt;Vilnius&lt;/div&gt;`)[0];\n",
       "                popup_56cdcd5cd54c4fda084d1104ec7a993e.setContent(html_95231be4add81575fcdc31d66db42072);\n",
       "            \n",
       "        \n",
       "\n",
       "        marker_e5bd7359b2feedcaff7dbd4ac10ee013.bindPopup(popup_56cdcd5cd54c4fda084d1104ec7a993e)\n",
       "        ;\n",
       "\n",
       "        \n",
       "    \n",
       "    \n",
       "            var marker_bd5549f9eb2154ff391bec2220bc83a8 = L.marker(\n",
       "                [45.815, 15.9819],\n",
       "                {}\n",
       "            ).addTo(map_3d03da9980c036e74ab06c90a882aba4);\n",
       "        \n",
       "    \n",
       "        var popup_bac3e69c56f6a5f96089f9e248cd8b71 = L.popup({&quot;maxWidth&quot;: &quot;100%&quot;});\n",
       "\n",
       "        \n",
       "            \n",
       "                var html_3840aeeeeeced33eba13cf9ec8161f6d = $(`&lt;div id=&quot;html_3840aeeeeeced33eba13cf9ec8161f6d&quot; style=&quot;width: 100.0%; height: 100.0%;&quot;&gt;Zagreb&lt;/div&gt;`)[0];\n",
       "                popup_bac3e69c56f6a5f96089f9e248cd8b71.setContent(html_3840aeeeeeced33eba13cf9ec8161f6d);\n",
       "            \n",
       "        \n",
       "\n",
       "        marker_bd5549f9eb2154ff391bec2220bc83a8.bindPopup(popup_bac3e69c56f6a5f96089f9e248cd8b71)\n",
       "        ;\n",
       "\n",
       "        \n",
       "    \n",
       "    \n",
       "            var marker_fcc6c2a6d9cfe3f9fe3cd7b0ac4b2afe = L.marker(\n",
       "                [41.6488, -0.8877],\n",
       "                {}\n",
       "            ).addTo(map_3d03da9980c036e74ab06c90a882aba4);\n",
       "        \n",
       "    \n",
       "        var popup_c9f5230340a9a6f11ab6dc19f91245f8 = L.popup({&quot;maxWidth&quot;: &quot;100%&quot;});\n",
       "\n",
       "        \n",
       "            \n",
       "                var html_3f88f07dd240cc8e632c6b339fa6ff28 = $(`&lt;div id=&quot;html_3f88f07dd240cc8e632c6b339fa6ff28&quot; style=&quot;width: 100.0%; height: 100.0%;&quot;&gt;Zaragoza&lt;/div&gt;`)[0];\n",
       "                popup_c9f5230340a9a6f11ab6dc19f91245f8.setContent(html_3f88f07dd240cc8e632c6b339fa6ff28);\n",
       "            \n",
       "        \n",
       "\n",
       "        marker_fcc6c2a6d9cfe3f9fe3cd7b0ac4b2afe.bindPopup(popup_c9f5230340a9a6f11ab6dc19f91245f8)\n",
       "        ;\n",
       "\n",
       "        \n",
       "    \n",
       "    \n",
       "            var marker_cd6e6b5f9a18b18154111fcafd895ca3 = L.marker(\n",
       "                [30.0444, 31.2357],\n",
       "                {}\n",
       "            ).addTo(map_3d03da9980c036e74ab06c90a882aba4);\n",
       "        \n",
       "    \n",
       "        var popup_7705cd83ebb869b6a1f25bb93b2e3e82 = L.popup({&quot;maxWidth&quot;: &quot;100%&quot;});\n",
       "\n",
       "        \n",
       "            \n",
       "                var html_0015d3957056dd47a6d97bbbe2937a85 = $(`&lt;div id=&quot;html_0015d3957056dd47a6d97bbbe2937a85&quot; style=&quot;width: 100.0%; height: 100.0%;&quot;&gt;El Cairo&lt;/div&gt;`)[0];\n",
       "                popup_7705cd83ebb869b6a1f25bb93b2e3e82.setContent(html_0015d3957056dd47a6d97bbbe2937a85);\n",
       "            \n",
       "        \n",
       "\n",
       "        marker_cd6e6b5f9a18b18154111fcafd895ca3.bindPopup(popup_7705cd83ebb869b6a1f25bb93b2e3e82)\n",
       "        ;\n",
       "\n",
       "        \n",
       "    \n",
       "    \n",
       "            var marker_2727ddb979f032e29b38b7941c385e0c = L.marker(\n",
       "                [40.4818, -3.6934],\n",
       "                {}\n",
       "            ).addTo(map_3d03da9980c036e74ab06c90a882aba4);\n",
       "        \n",
       "    \n",
       "        var popup_16987b30ee0c292d6f8617bcf1b1a5a3 = L.popup({&quot;maxWidth&quot;: &quot;100%&quot;});\n",
       "\n",
       "        \n",
       "            \n",
       "                var html_bb1e520e349e6811b386e88ffacf9efe = $(`&lt;div id=&quot;html_bb1e520e349e6811b386e88ffacf9efe&quot; style=&quot;width: 100.0%; height: 100.0%;&quot;&gt;Alcalá de Henares&lt;/div&gt;`)[0];\n",
       "                popup_16987b30ee0c292d6f8617bcf1b1a5a3.setContent(html_bb1e520e349e6811b386e88ffacf9efe);\n",
       "            \n",
       "        \n",
       "\n",
       "        marker_2727ddb979f032e29b38b7941c385e0c.bindPopup(popup_16987b30ee0c292d6f8617bcf1b1a5a3)\n",
       "        ;\n",
       "\n",
       "        \n",
       "    \n",
       "    \n",
       "            var marker_6f400182ec0d5551198b20b582fbae50 = L.marker(\n",
       "                [37.9838, 23.7275],\n",
       "                {}\n",
       "            ).addTo(map_3d03da9980c036e74ab06c90a882aba4);\n",
       "        \n",
       "    \n",
       "        var popup_95239734b336f08714b40a214d062882 = L.popup({&quot;maxWidth&quot;: &quot;100%&quot;});\n",
       "\n",
       "        \n",
       "            \n",
       "                var html_b198f22bfdfc21c10da1174b5dcf0a52 = $(`&lt;div id=&quot;html_b198f22bfdfc21c10da1174b5dcf0a52&quot; style=&quot;width: 100.0%; height: 100.0%;&quot;&gt;Atenas&lt;/div&gt;`)[0];\n",
       "                popup_95239734b336f08714b40a214d062882.setContent(html_b198f22bfdfc21c10da1174b5dcf0a52);\n",
       "            \n",
       "        \n",
       "\n",
       "        marker_6f400182ec0d5551198b20b582fbae50.bindPopup(popup_95239734b336f08714b40a214d062882)\n",
       "        ;\n",
       "\n",
       "        \n",
       "    \n",
       "    \n",
       "            var marker_6b425ddc076bbb8597b1e3f49b6c2bd1 = L.marker(\n",
       "                [13.7563, 100.5018],\n",
       "                {}\n",
       "            ).addTo(map_3d03da9980c036e74ab06c90a882aba4);\n",
       "        \n",
       "    \n",
       "        var popup_69e66c85422b616cf96bd6c07f119dca = L.popup({&quot;maxWidth&quot;: &quot;100%&quot;});\n",
       "\n",
       "        \n",
       "            \n",
       "                var html_04100a73e1a919b53cc15668eb93d46a = $(`&lt;div id=&quot;html_04100a73e1a919b53cc15668eb93d46a&quot; style=&quot;width: 100.0%; height: 100.0%;&quot;&gt;Bangkok&lt;/div&gt;`)[0];\n",
       "                popup_69e66c85422b616cf96bd6c07f119dca.setContent(html_04100a73e1a919b53cc15668eb93d46a);\n",
       "            \n",
       "        \n",
       "\n",
       "        marker_6b425ddc076bbb8597b1e3f49b6c2bd1.bindPopup(popup_69e66c85422b616cf96bd6c07f119dca)\n",
       "        ;\n",
       "\n",
       "        \n",
       "    \n",
       "    \n",
       "            var marker_4a1344fc1260225893274b936f6a19a6 = L.marker(\n",
       "                [-34.6037, -58.3816],\n",
       "                {}\n",
       "            ).addTo(map_3d03da9980c036e74ab06c90a882aba4);\n",
       "        \n",
       "    \n",
       "        var popup_94322e979fb79f50dc4123cd12d38015 = L.popup({&quot;maxWidth&quot;: &quot;100%&quot;});\n",
       "\n",
       "        \n",
       "            \n",
       "                var html_e250d1e5e44b6756bc8bbe770b3829e2 = $(`&lt;div id=&quot;html_e250d1e5e44b6756bc8bbe770b3829e2&quot; style=&quot;width: 100.0%; height: 100.0%;&quot;&gt;Buenos Aires&lt;/div&gt;`)[0];\n",
       "                popup_94322e979fb79f50dc4123cd12d38015.setContent(html_e250d1e5e44b6756bc8bbe770b3829e2);\n",
       "            \n",
       "        \n",
       "\n",
       "        marker_4a1344fc1260225893274b936f6a19a6.bindPopup(popup_94322e979fb79f50dc4123cd12d38015)\n",
       "        ;\n",
       "\n",
       "        \n",
       "    \n",
       "    \n",
       "            var marker_e1493df172c52d172ab30aabffdd26ed = L.marker(\n",
       "                [33.5138, 36.2765],\n",
       "                {}\n",
       "            ).addTo(map_3d03da9980c036e74ab06c90a882aba4);\n",
       "        \n",
       "    \n",
       "        var popup_5fdac2aa827f8d52abdee46e7e3f6a5a = L.popup({&quot;maxWidth&quot;: &quot;100%&quot;});\n",
       "\n",
       "        \n",
       "            \n",
       "                var html_d2b78a81b9f9585e23f1bd8098d1d774 = $(`&lt;div id=&quot;html_d2b78a81b9f9585e23f1bd8098d1d774&quot; style=&quot;width: 100.0%; height: 100.0%;&quot;&gt;Damasco&lt;/div&gt;`)[0];\n",
       "                popup_5fdac2aa827f8d52abdee46e7e3f6a5a.setContent(html_d2b78a81b9f9585e23f1bd8098d1d774);\n",
       "            \n",
       "        \n",
       "\n",
       "        marker_e1493df172c52d172ab30aabffdd26ed.bindPopup(popup_5fdac2aa827f8d52abdee46e7e3f6a5a)\n",
       "        ;\n",
       "\n",
       "        \n",
       "    \n",
       "    \n",
       "            var marker_e355080cc9a6ab82ce5ccdcfc30361b3 = L.marker(\n",
       "                [33.5138, 36.2765],\n",
       "                {}\n",
       "            ).addTo(map_3d03da9980c036e74ab06c90a882aba4);\n",
       "        \n",
       "    \n",
       "        var popup_5db4cf3b9a50f01e1fab1f77d95347d4 = L.popup({&quot;maxWidth&quot;: &quot;100%&quot;});\n",
       "\n",
       "        \n",
       "            \n",
       "                var html_054832e6877085e5b3cd9dacecdd4e8a = $(`&lt;div id=&quot;html_054832e6877085e5b3cd9dacecdd4e8a&quot; style=&quot;width: 100.0%; height: 100.0%;&quot;&gt;Dimashq&lt;/div&gt;`)[0];\n",
       "                popup_5db4cf3b9a50f01e1fab1f77d95347d4.setContent(html_054832e6877085e5b3cd9dacecdd4e8a);\n",
       "            \n",
       "        \n",
       "\n",
       "        marker_e355080cc9a6ab82ce5ccdcfc30361b3.bindPopup(popup_5db4cf3b9a50f01e1fab1f77d95347d4)\n",
       "        ;\n",
       "\n",
       "        \n",
       "    \n",
       "    \n",
       "            var marker_d29f41814cf5fb8c5ecc114e920bb47a = L.marker(\n",
       "                [53.3498, -6.2603],\n",
       "                {}\n",
       "            ).addTo(map_3d03da9980c036e74ab06c90a882aba4);\n",
       "        \n",
       "    \n",
       "        var popup_724d34ce34e8709672c256d19de070b0 = L.popup({&quot;maxWidth&quot;: &quot;100%&quot;});\n",
       "\n",
       "        \n",
       "            \n",
       "                var html_3c0f5b5624a59e5fa3ae60dd661284b5 = $(`&lt;div id=&quot;html_3c0f5b5624a59e5fa3ae60dd661284b5&quot; style=&quot;width: 100.0%; height: 100.0%;&quot;&gt;Dublín&lt;/div&gt;`)[0];\n",
       "                popup_724d34ce34e8709672c256d19de070b0.setContent(html_3c0f5b5624a59e5fa3ae60dd661284b5);\n",
       "            \n",
       "        \n",
       "\n",
       "        marker_d29f41814cf5fb8c5ecc114e920bb47a.bindPopup(popup_724d34ce34e8709672c256d19de070b0)\n",
       "        ;\n",
       "\n",
       "        \n",
       "    \n",
       "    \n",
       "            var marker_30e704f4f4faffa67e57ff69ba4e3f27 = L.marker(\n",
       "                [33.8547, 35.2332],\n",
       "                {}\n",
       "            ).addTo(map_3d03da9980c036e74ab06c90a882aba4);\n",
       "        \n",
       "    \n",
       "        var popup_03515f77f5de8c97c6061e2e32bdffe5 = L.popup({&quot;maxWidth&quot;: &quot;100%&quot;});\n",
       "\n",
       "        \n",
       "            \n",
       "                var html_d58645352e81d9e25dcd9bd621d4459f = $(`&lt;div id=&quot;html_d58645352e81d9e25dcd9bd621d4459f&quot; style=&quot;width: 100.0%; height: 100.0%;&quot;&gt;El Líbano&lt;/div&gt;`)[0];\n",
       "                popup_03515f77f5de8c97c6061e2e32bdffe5.setContent(html_d58645352e81d9e25dcd9bd621d4459f);\n",
       "            \n",
       "        \n",
       "\n",
       "        marker_30e704f4f4faffa67e57ff69ba4e3f27.bindPopup(popup_03515f77f5de8c97c6061e2e32bdffe5)\n",
       "        ;\n",
       "\n",
       "        \n",
       "    \n",
       "    \n",
       "            var marker_a2c7696b643fc3c2b39fbf7e13cb3390 = L.marker(\n",
       "                [60.1695, 24.9426],\n",
       "                {}\n",
       "            ).addTo(map_3d03da9980c036e74ab06c90a882aba4);\n",
       "        \n",
       "    \n",
       "        var popup_1a64cc2a94b97416a8855a138bea2298 = L.popup({&quot;maxWidth&quot;: &quot;100%&quot;});\n",
       "\n",
       "        \n",
       "            \n",
       "                var html_99aa763af4d87e197d6b3c47c8ca1b99 = $(`&lt;div id=&quot;html_99aa763af4d87e197d6b3c47c8ca1b99&quot; style=&quot;width: 100.0%; height: 100.0%;&quot;&gt;Helsinki&lt;/div&gt;`)[0];\n",
       "                popup_1a64cc2a94b97416a8855a138bea2298.setContent(html_99aa763af4d87e197d6b3c47c8ca1b99);\n",
       "            \n",
       "        \n",
       "\n",
       "        marker_a2c7696b643fc3c2b39fbf7e13cb3390.bindPopup(popup_1a64cc2a94b97416a8855a138bea2298)\n",
       "        ;\n",
       "\n",
       "        \n",
       "    \n",
       "    \n",
       "            var marker_44dc34ea1255fd65af62d02591a06ff7 = L.marker(\n",
       "                [31.0461, 34.8516],\n",
       "                {}\n",
       "            ).addTo(map_3d03da9980c036e74ab06c90a882aba4);\n",
       "        \n",
       "    \n",
       "        var popup_9251802176bb8607dbf567da0d375eca = L.popup({&quot;maxWidth&quot;: &quot;100%&quot;});\n",
       "\n",
       "        \n",
       "            \n",
       "                var html_6eb1b7378baa744dab8b3774452ceef7 = $(`&lt;div id=&quot;html_6eb1b7378baa744dab8b3774452ceef7&quot; style=&quot;width: 100.0%; height: 100.0%;&quot;&gt;Israel&lt;/div&gt;`)[0];\n",
       "                popup_9251802176bb8607dbf567da0d375eca.setContent(html_6eb1b7378baa744dab8b3774452ceef7);\n",
       "            \n",
       "        \n",
       "\n",
       "        marker_44dc34ea1255fd65af62d02591a06ff7.bindPopup(popup_9251802176bb8607dbf567da0d375eca)\n",
       "        ;\n",
       "\n",
       "        \n",
       "    \n",
       "    \n",
       "            var marker_1fa8724671aa8416cc815bb5c86435c4 = L.marker(\n",
       "                [41.0082, 28.9784],\n",
       "                {}\n",
       "            ).addTo(map_3d03da9980c036e74ab06c90a882aba4);\n",
       "        \n",
       "    \n",
       "        var popup_3e3ae9b8a2fab597042975269a67d33f = L.popup({&quot;maxWidth&quot;: &quot;100%&quot;});\n",
       "\n",
       "        \n",
       "            \n",
       "                var html_3de0f4ce8d8cfab280c791779e6343c4 = $(`&lt;div id=&quot;html_3de0f4ce8d8cfab280c791779e6343c4&quot; style=&quot;width: 100.0%; height: 100.0%;&quot;&gt;Estambul&lt;/div&gt;`)[0];\n",
       "                popup_3e3ae9b8a2fab597042975269a67d33f.setContent(html_3de0f4ce8d8cfab280c791779e6343c4);\n",
       "            \n",
       "        \n",
       "\n",
       "        marker_1fa8724671aa8416cc815bb5c86435c4.bindPopup(popup_3e3ae9b8a2fab597042975269a67d33f)\n",
       "        ;\n",
       "\n",
       "        \n",
       "    \n",
       "    \n",
       "            var marker_92c111d43eb2ad9ba5d0fc57f3148cc7 = L.marker(\n",
       "                [55.6761, 12.5683],\n",
       "                {}\n",
       "            ).addTo(map_3d03da9980c036e74ab06c90a882aba4);\n",
       "        \n",
       "    \n",
       "        var popup_48230be03948771acb3721eb601dcfb8 = L.popup({&quot;maxWidth&quot;: &quot;100%&quot;});\n",
       "\n",
       "        \n",
       "            \n",
       "                var html_17ffefc257d1fb13ce8e285e382fcad6 = $(`&lt;div id=&quot;html_17ffefc257d1fb13ce8e285e382fcad6&quot; style=&quot;width: 100.0%; height: 100.0%;&quot;&gt;Copenhague&lt;/div&gt;`)[0];\n",
       "                popup_48230be03948771acb3721eb601dcfb8.setContent(html_17ffefc257d1fb13ce8e285e382fcad6);\n",
       "            \n",
       "        \n",
       "\n",
       "        marker_92c111d43eb2ad9ba5d0fc57f3148cc7.bindPopup(popup_48230be03948771acb3721eb601dcfb8)\n",
       "        ;\n",
       "\n",
       "        \n",
       "    \n",
       "    \n",
       "            var marker_b26eda7460912cc00bc9382e0ea20e50 = L.marker(\n",
       "                [50.0647, 19.9449],\n",
       "                {}\n",
       "            ).addTo(map_3d03da9980c036e74ab06c90a882aba4);\n",
       "        \n",
       "    \n",
       "        var popup_e6011d645c75d3a8ed6937cb7b858742 = L.popup({&quot;maxWidth&quot;: &quot;100%&quot;});\n",
       "\n",
       "        \n",
       "            \n",
       "                var html_75d255858a91f9b3d4f7f8d28118f5f4 = $(`&lt;div id=&quot;html_75d255858a91f9b3d4f7f8d28118f5f4&quot; style=&quot;width: 100.0%; height: 100.0%;&quot;&gt;Cracovia&lt;/div&gt;`)[0];\n",
       "                popup_e6011d645c75d3a8ed6937cb7b858742.setContent(html_75d255858a91f9b3d4f7f8d28118f5f4);\n",
       "            \n",
       "        \n",
       "\n",
       "        marker_b26eda7460912cc00bc9382e0ea20e50.bindPopup(popup_e6011d645c75d3a8ed6937cb7b858742)\n",
       "        ;\n",
       "\n",
       "        \n",
       "    \n",
       "    \n",
       "            var marker_3b4d9f0f72599c8e9cda431f84547581 = L.marker(\n",
       "                [43.1115, -8.6764],\n",
       "                {}\n",
       "            ).addTo(map_3d03da9980c036e74ab06c90a882aba4);\n",
       "        \n",
       "    \n",
       "        var popup_32eda61f15e372aea6bf622da6e5b7df = L.popup({&quot;maxWidth&quot;: &quot;100%&quot;});\n",
       "\n",
       "        \n",
       "            \n",
       "                var html_eebeab82024333c09f58021d7d9e0f24 = $(`&lt;div id=&quot;html_eebeab82024333c09f58021d7d9e0f24&quot; style=&quot;width: 100.0%; height: 100.0%;&quot;&gt;Laracha (La Coruña)&lt;/div&gt;`)[0];\n",
       "                popup_32eda61f15e372aea6bf622da6e5b7df.setContent(html_eebeab82024333c09f58021d7d9e0f24);\n",
       "            \n",
       "        \n",
       "\n",
       "        marker_3b4d9f0f72599c8e9cda431f84547581.bindPopup(popup_32eda61f15e372aea6bf622da6e5b7df)\n",
       "        ;\n",
       "\n",
       "        \n",
       "    \n",
       "    \n",
       "            var marker_0b668957811fa6fc191cad06f4b81081 = L.marker(\n",
       "                [38.7167, -9.1393],\n",
       "                {}\n",
       "            ).addTo(map_3d03da9980c036e74ab06c90a882aba4);\n",
       "        \n",
       "    \n",
       "        var popup_1758292c73b2d27e237801be7fddc0d7 = L.popup({&quot;maxWidth&quot;: &quot;100%&quot;});\n",
       "\n",
       "        \n",
       "            \n",
       "                var html_7864cec0a78a6a1c77528c2599dea8fe = $(`&lt;div id=&quot;html_7864cec0a78a6a1c77528c2599dea8fe&quot; style=&quot;width: 100.0%; height: 100.0%;&quot;&gt;Lisboa&lt;/div&gt;`)[0];\n",
       "                popup_1758292c73b2d27e237801be7fddc0d7.setContent(html_7864cec0a78a6a1c77528c2599dea8fe);\n",
       "            \n",
       "        \n",
       "\n",
       "        marker_0b668957811fa6fc191cad06f4b81081.bindPopup(popup_1758292c73b2d27e237801be7fddc0d7)\n",
       "        ;\n",
       "\n",
       "        \n",
       "    \n",
       "    \n",
       "            var marker_e378f2673254b5592d0eb1c2b17f54cc = L.marker(\n",
       "                [28.6885, 77.291],\n",
       "                {}\n",
       "            ).addTo(map_3d03da9980c036e74ab06c90a882aba4);\n",
       "        \n",
       "    \n",
       "        var popup_a1dda9850691de17d8b3a355a34fea6e = L.popup({&quot;maxWidth&quot;: &quot;100%&quot;});\n",
       "\n",
       "        \n",
       "            \n",
       "                var html_de6a6916480079335c5394c230974e07 = $(`&lt;div id=&quot;html_de6a6916480079335c5394c230974e07&quot; style=&quot;width: 100.0%; height: 100.0%;&quot;&gt;Nueva Delhi&lt;/div&gt;`)[0];\n",
       "                popup_a1dda9850691de17d8b3a355a34fea6e.setContent(html_de6a6916480079335c5394c230974e07);\n",
       "            \n",
       "        \n",
       "\n",
       "        marker_e378f2673254b5592d0eb1c2b17f54cc.bindPopup(popup_a1dda9850691de17d8b3a355a34fea6e)\n",
       "        ;\n",
       "\n",
       "        \n",
       "    \n",
       "    \n",
       "            var marker_5e0a814d0bb23662d8da2c8c5679b47a = L.marker(\n",
       "                [35.9375, 14.3754],\n",
       "                {}\n",
       "            ).addTo(map_3d03da9980c036e74ab06c90a882aba4);\n",
       "        \n",
       "    \n",
       "        var popup_01f22e864d00d2610435771c8782cb8b = L.popup({&quot;maxWidth&quot;: &quot;100%&quot;});\n",
       "\n",
       "        \n",
       "            \n",
       "                var html_d74aa670d9b65312587e189e25b55b21 = $(`&lt;div id=&quot;html_d74aa670d9b65312587e189e25b55b21&quot; style=&quot;width: 100.0%; height: 100.0%;&quot;&gt;Malta&lt;/div&gt;`)[0];\n",
       "                popup_01f22e864d00d2610435771c8782cb8b.setContent(html_d74aa670d9b65312587e189e25b55b21);\n",
       "            \n",
       "        \n",
       "\n",
       "        marker_5e0a814d0bb23662d8da2c8c5679b47a.bindPopup(popup_01f22e864d00d2610435771c8782cb8b)\n",
       "        ;\n",
       "\n",
       "        \n",
       "    \n",
       "    \n",
       "            var marker_59ec2714955d64746366cc60c7260489 = L.marker(\n",
       "                [14.5995, 120.9842],\n",
       "                {}\n",
       "            ).addTo(map_3d03da9980c036e74ab06c90a882aba4);\n",
       "        \n",
       "    \n",
       "        var popup_7453972dff6a7a1578b43ceb504e5f96 = L.popup({&quot;maxWidth&quot;: &quot;100%&quot;});\n",
       "\n",
       "        \n",
       "            \n",
       "                var html_dedb2079ae2a79a14e6e4ac6631b9543 = $(`&lt;div id=&quot;html_dedb2079ae2a79a14e6e4ac6631b9543&quot; style=&quot;width: 100.0%; height: 100.0%;&quot;&gt;Manila&lt;/div&gt;`)[0];\n",
       "                popup_7453972dff6a7a1578b43ceb504e5f96.setContent(html_dedb2079ae2a79a14e6e4ac6631b9543);\n",
       "            \n",
       "        \n",
       "\n",
       "        marker_59ec2714955d64746366cc60c7260489.bindPopup(popup_7453972dff6a7a1578b43ceb504e5f96)\n",
       "        ;\n",
       "\n",
       "        \n",
       "    \n",
       "    \n",
       "            var marker_25f91b851f2d130d6c8a7717cd2b1c10 = L.marker(\n",
       "                [45.4642, 9.19],\n",
       "                {}\n",
       "            ).addTo(map_3d03da9980c036e74ab06c90a882aba4);\n",
       "        \n",
       "    \n",
       "        var popup_6b9bd92ee19ca3be21a50a20382c832c = L.popup({&quot;maxWidth&quot;: &quot;100%&quot;});\n",
       "\n",
       "        \n",
       "            \n",
       "                var html_9f15bae9d39462770d7e772919416e4a = $(`&lt;div id=&quot;html_9f15bae9d39462770d7e772919416e4a&quot; style=&quot;width: 100.0%; height: 100.0%;&quot;&gt;Milán&lt;/div&gt;`)[0];\n",
       "                popup_6b9bd92ee19ca3be21a50a20382c832c.setContent(html_9f15bae9d39462770d7e772919416e4a);\n",
       "            \n",
       "        \n",
       "\n",
       "        marker_25f91b851f2d130d6c8a7717cd2b1c10.bindPopup(popup_6b9bd92ee19ca3be21a50a20382c832c)\n",
       "        ;\n",
       "\n",
       "        \n",
       "    \n",
       "    \n",
       "            var marker_4cbad2dd025c77ef4df2716404b3e674 = L.marker(\n",
       "                [55.7558, 37.6173],\n",
       "                {}\n",
       "            ).addTo(map_3d03da9980c036e74ab06c90a882aba4);\n",
       "        \n",
       "    \n",
       "        var popup_802e153d99820577c05b0f3b6ddfa7e4 = L.popup({&quot;maxWidth&quot;: &quot;100%&quot;});\n",
       "\n",
       "        \n",
       "            \n",
       "                var html_db008224cdf19da32a9a7fb24ccffe19 = $(`&lt;div id=&quot;html_db008224cdf19da32a9a7fb24ccffe19&quot; style=&quot;width: 100.0%; height: 100.0%;&quot;&gt;Moscú&lt;/div&gt;`)[0];\n",
       "                popup_802e153d99820577c05b0f3b6ddfa7e4.setContent(html_db008224cdf19da32a9a7fb24ccffe19);\n",
       "            \n",
       "        \n",
       "\n",
       "        marker_4cbad2dd025c77ef4df2716404b3e674.bindPopup(popup_802e153d99820577c05b0f3b6ddfa7e4)\n",
       "        ;\n",
       "\n",
       "        \n",
       "    \n",
       "    \n",
       "            var marker_e8bcac167712eeecd3c9cbf5389384b7 = L.marker(\n",
       "                [32.0603, 118.7969],\n",
       "                {}\n",
       "            ).addTo(map_3d03da9980c036e74ab06c90a882aba4);\n",
       "        \n",
       "    \n",
       "        var popup_6bbcc3504179837ca8f0199cc8c228f8 = L.popup({&quot;maxWidth&quot;: &quot;100%&quot;});\n",
       "\n",
       "        \n",
       "            \n",
       "                var html_008552ed4747a04f59ab32694c2163fb = $(`&lt;div id=&quot;html_008552ed4747a04f59ab32694c2163fb&quot; style=&quot;width: 100.0%; height: 100.0%;&quot;&gt;Nankín&lt;/div&gt;`)[0];\n",
       "                popup_6bbcc3504179837ca8f0199cc8c228f8.setContent(html_008552ed4747a04f59ab32694c2163fb);\n",
       "            \n",
       "        \n",
       "\n",
       "        marker_e8bcac167712eeecd3c9cbf5389384b7.bindPopup(popup_6bbcc3504179837ca8f0199cc8c228f8)\n",
       "        ;\n",
       "\n",
       "        \n",
       "    \n",
       "    \n",
       "            var marker_6443b83257fe4908fa2b36a7179f1ea2 = L.marker(\n",
       "                [40.7128, -74.006],\n",
       "                {}\n",
       "            ).addTo(map_3d03da9980c036e74ab06c90a882aba4);\n",
       "        \n",
       "    \n",
       "        var popup_8b9f79953796f1ddd02f77919053579c = L.popup({&quot;maxWidth&quot;: &quot;100%&quot;});\n",
       "\n",
       "        \n",
       "            \n",
       "                var html_1926f9c90c1f9789c822bbf79a320457 = $(`&lt;div id=&quot;html_1926f9c90c1f9789c822bbf79a320457&quot; style=&quot;width: 100.0%; height: 100.0%;&quot;&gt;Nueva York&lt;/div&gt;`)[0];\n",
       "                popup_8b9f79953796f1ddd02f77919053579c.setContent(html_1926f9c90c1f9789c822bbf79a320457);\n",
       "            \n",
       "        \n",
       "\n",
       "        marker_6443b83257fe4908fa2b36a7179f1ea2.bindPopup(popup_8b9f79953796f1ddd02f77919053579c)\n",
       "        ;\n",
       "\n",
       "        \n",
       "    \n",
       "    \n",
       "            var marker_7cfb769275922ba499a9f57d70962a44 = L.marker(\n",
       "                [28.6139, 77.209],\n",
       "                {}\n",
       "            ).addTo(map_3d03da9980c036e74ab06c90a882aba4);\n",
       "        \n",
       "    \n",
       "        var popup_b8947fd0e10e2a99747bb6e39f47973c = L.popup({&quot;maxWidth&quot;: &quot;100%&quot;});\n",
       "\n",
       "        \n",
       "            \n",
       "                var html_2f38bcecf3ca7dfb663a848fd87ce49a = $(`&lt;div id=&quot;html_2f38bcecf3ca7dfb663a848fd87ce49a&quot; style=&quot;width: 100.0%; height: 100.0%;&quot;&gt;Nueva Delhi&lt;/div&gt;`)[0];\n",
       "                popup_b8947fd0e10e2a99747bb6e39f47973c.setContent(html_2f38bcecf3ca7dfb663a848fd87ce49a);\n",
       "            \n",
       "        \n",
       "\n",
       "        marker_7cfb769275922ba499a9f57d70962a44.bindPopup(popup_b8947fd0e10e2a99747bb6e39f47973c)\n",
       "        ;\n",
       "\n",
       "        \n",
       "    \n",
       "    \n",
       "            var marker_ca84825be8214cba340bacfa8f48ddef = L.marker(\n",
       "                [51.752, -1.2577],\n",
       "                {}\n",
       "            ).addTo(map_3d03da9980c036e74ab06c90a882aba4);\n",
       "        \n",
       "    \n",
       "        var popup_561283d4b2b1a848ed53bc3cde3ead0a = L.popup({&quot;maxWidth&quot;: &quot;100%&quot;});\n",
       "\n",
       "        \n",
       "            \n",
       "                var html_a2a908b1fd19acaf37486d389f62e02b = $(`&lt;div id=&quot;html_a2a908b1fd19acaf37486d389f62e02b&quot; style=&quot;width: 100.0%; height: 100.0%;&quot;&gt;Oxford&lt;/div&gt;`)[0];\n",
       "                popup_561283d4b2b1a848ed53bc3cde3ead0a.setContent(html_a2a908b1fd19acaf37486d389f62e02b);\n",
       "            \n",
       "        \n",
       "\n",
       "        marker_ca84825be8214cba340bacfa8f48ddef.bindPopup(popup_561283d4b2b1a848ed53bc3cde3ead0a)\n",
       "        ;\n",
       "\n",
       "        \n",
       "    \n",
       "    \n",
       "            var marker_33cf889ae5d09cd8e1f7acedfe69f77e = L.marker(\n",
       "                [44.8567, 24.8692],\n",
       "                {}\n",
       "            ).addTo(map_3d03da9980c036e74ab06c90a882aba4);\n",
       "        \n",
       "    \n",
       "        var popup_865fd7781eae1851441bde211d14d0e1 = L.popup({&quot;maxWidth&quot;: &quot;100%&quot;});\n",
       "\n",
       "        \n",
       "            \n",
       "                var html_864b388db009616a60f575011060ac42 = $(`&lt;div id=&quot;html_864b388db009616a60f575011060ac42&quot; style=&quot;width: 100.0%; height: 100.0%;&quot;&gt;Bucarest&lt;/div&gt;`)[0];\n",
       "                popup_865fd7781eae1851441bde211d14d0e1.setContent(html_864b388db009616a60f575011060ac42);\n",
       "            \n",
       "        \n",
       "\n",
       "        marker_33cf889ae5d09cd8e1f7acedfe69f77e.bindPopup(popup_865fd7781eae1851441bde211d14d0e1)\n",
       "        ;\n",
       "\n",
       "        \n",
       "    \n",
       "    \n",
       "            var marker_f510b6db69f5b19c49a994e1d8c6c364 = L.marker(\n",
       "                [41.1579, -8.611],\n",
       "                {}\n",
       "            ).addTo(map_3d03da9980c036e74ab06c90a882aba4);\n",
       "        \n",
       "    \n",
       "        var popup_312f414f28aca56ca58108b028ed03a2 = L.popup({&quot;maxWidth&quot;: &quot;100%&quot;});\n",
       "\n",
       "        \n",
       "            \n",
       "                var html_39d62c766091e9afde6cd7e66a19f361 = $(`&lt;div id=&quot;html_39d62c766091e9afde6cd7e66a19f361&quot; style=&quot;width: 100.0%; height: 100.0%;&quot;&gt;Oporto&lt;/div&gt;`)[0];\n",
       "                popup_312f414f28aca56ca58108b028ed03a2.setContent(html_39d62c766091e9afde6cd7e66a19f361);\n",
       "            \n",
       "        \n",
       "\n",
       "        marker_f510b6db69f5b19c49a994e1d8c6c364.bindPopup(popup_312f414f28aca56ca58108b028ed03a2)\n",
       "        ;\n",
       "\n",
       "        \n",
       "    \n",
       "    \n",
       "            var marker_139b986e3d7a232aeb817079fd016bd4 = L.marker(\n",
       "                [50.0755, 14.4378],\n",
       "                {}\n",
       "            ).addTo(map_3d03da9980c036e74ab06c90a882aba4);\n",
       "        \n",
       "    \n",
       "        var popup_2fa42a42672d2ff5ec48665cf32d5b6c = L.popup({&quot;maxWidth&quot;: &quot;100%&quot;});\n",
       "\n",
       "        \n",
       "            \n",
       "                var html_c1702f8234aabc7ab9bd6d48cb99e267 = $(`&lt;div id=&quot;html_c1702f8234aabc7ab9bd6d48cb99e267&quot; style=&quot;width: 100.0%; height: 100.0%;&quot;&gt;Praga&lt;/div&gt;`)[0];\n",
       "                popup_2fa42a42672d2ff5ec48665cf32d5b6c.setContent(html_c1702f8234aabc7ab9bd6d48cb99e267);\n",
       "            \n",
       "        \n",
       "\n",
       "        marker_139b986e3d7a232aeb817079fd016bd4.bindPopup(popup_2fa42a42672d2ff5ec48665cf32d5b6c)\n",
       "        ;\n",
       "\n",
       "        \n",
       "    \n",
       "    \n",
       "            var marker_19dad7bf0a28c3eb77a75f0719d17ec8 = L.marker(\n",
       "                [50.0755, 14.4378],\n",
       "                {}\n",
       "            ).addTo(map_3d03da9980c036e74ab06c90a882aba4);\n",
       "        \n",
       "    \n",
       "        var popup_f7977d34d7e98a7ab96211d42c6e67c6 = L.popup({&quot;maxWidth&quot;: &quot;100%&quot;});\n",
       "\n",
       "        \n",
       "            \n",
       "                var html_009807e68e5759b094244ae93149b300 = $(`&lt;div id=&quot;html_009807e68e5759b094244ae93149b300&quot; style=&quot;width: 100.0%; height: 100.0%;&quot;&gt;Praga&lt;/div&gt;`)[0];\n",
       "                popup_f7977d34d7e98a7ab96211d42c6e67c6.setContent(html_009807e68e5759b094244ae93149b300);\n",
       "            \n",
       "        \n",
       "\n",
       "        marker_19dad7bf0a28c3eb77a75f0719d17ec8.bindPopup(popup_f7977d34d7e98a7ab96211d42c6e67c6)\n",
       "        ;\n",
       "\n",
       "        \n",
       "    \n",
       "    \n",
       "            var marker_3fe6d35af878fd291a0b2636311bba45 = L.marker(\n",
       "                [64.1355, -21.8174],\n",
       "                {}\n",
       "            ).addTo(map_3d03da9980c036e74ab06c90a882aba4);\n",
       "        \n",
       "    \n",
       "        var popup_c8a071801566031ce78bcf5c1ccea7d1 = L.popup({&quot;maxWidth&quot;: &quot;100%&quot;});\n",
       "\n",
       "        \n",
       "            \n",
       "                var html_ab72c6aca6d9e40b39c1fdc8ae2fc1de = $(`&lt;div id=&quot;html_ab72c6aca6d9e40b39c1fdc8ae2fc1de&quot; style=&quot;width: 100.0%; height: 100.0%;&quot;&gt;Reykjavík&lt;/div&gt;`)[0];\n",
       "                popup_c8a071801566031ce78bcf5c1ccea7d1.setContent(html_ab72c6aca6d9e40b39c1fdc8ae2fc1de);\n",
       "            \n",
       "        \n",
       "\n",
       "        marker_3fe6d35af878fd291a0b2636311bba45.bindPopup(popup_c8a071801566031ce78bcf5c1ccea7d1)\n",
       "        ;\n",
       "\n",
       "        \n",
       "    \n",
       "    \n",
       "            var marker_07365d2132d1cca02e8b252dac2e3618 = L.marker(\n",
       "                [56.9496, 24.1052],\n",
       "                {}\n",
       "            ).addTo(map_3d03da9980c036e74ab06c90a882aba4);\n",
       "        \n",
       "    \n",
       "        var popup_8c5438f4a6128a605ab281a84eb4305e = L.popup({&quot;maxWidth&quot;: &quot;100%&quot;});\n",
       "\n",
       "        \n",
       "            \n",
       "                var html_f439ebac947e4b620758a5af1a975127 = $(`&lt;div id=&quot;html_f439ebac947e4b620758a5af1a975127&quot; style=&quot;width: 100.0%; height: 100.0%;&quot;&gt;Riga&lt;/div&gt;`)[0];\n",
       "                popup_8c5438f4a6128a605ab281a84eb4305e.setContent(html_f439ebac947e4b620758a5af1a975127);\n",
       "            \n",
       "        \n",
       "\n",
       "        marker_07365d2132d1cca02e8b252dac2e3618.bindPopup(popup_8c5438f4a6128a605ab281a84eb4305e)\n",
       "        ;\n",
       "\n",
       "        \n",
       "    \n",
       "    \n",
       "            var marker_bbd8d1dc67c049e404baab1e6b81f27a = L.marker(\n",
       "                [37.5665, 126.978],\n",
       "                {}\n",
       "            ).addTo(map_3d03da9980c036e74ab06c90a882aba4);\n",
       "        \n",
       "    \n",
       "        var popup_b037eb45f83f8caff48f50948ee14246 = L.popup({&quot;maxWidth&quot;: &quot;100%&quot;});\n",
       "\n",
       "        \n",
       "            \n",
       "                var html_cb0f110a42c9ee6fc7c1de10c4383ff0 = $(`&lt;div id=&quot;html_cb0f110a42c9ee6fc7c1de10c4383ff0&quot; style=&quot;width: 100.0%; height: 100.0%;&quot;&gt;Seúl&lt;/div&gt;`)[0];\n",
       "                popup_b037eb45f83f8caff48f50948ee14246.setContent(html_cb0f110a42c9ee6fc7c1de10c4383ff0);\n",
       "            \n",
       "        \n",
       "\n",
       "        marker_bbd8d1dc67c049e404baab1e6b81f27a.bindPopup(popup_b037eb45f83f8caff48f50948ee14246)\n",
       "        ;\n",
       "\n",
       "        \n",
       "    \n",
       "    \n",
       "            var marker_b8588dfea28e5d5a7ba546ad8207dc0f = L.marker(\n",
       "                [42.6977, 23.3219],\n",
       "                {}\n",
       "            ).addTo(map_3d03da9980c036e74ab06c90a882aba4);\n",
       "        \n",
       "    \n",
       "        var popup_405dfbd35591a645f056f72f5152e744 = L.popup({&quot;maxWidth&quot;: &quot;100%&quot;});\n",
       "\n",
       "        \n",
       "            \n",
       "                var html_6c2915ce7a1167c3bc085f60738ab7ac = $(`&lt;div id=&quot;html_6c2915ce7a1167c3bc085f60738ab7ac&quot; style=&quot;width: 100.0%; height: 100.0%;&quot;&gt;Sofía&lt;/div&gt;`)[0];\n",
       "                popup_405dfbd35591a645f056f72f5152e744.setContent(html_6c2915ce7a1167c3bc085f60738ab7ac);\n",
       "            \n",
       "        \n",
       "\n",
       "        marker_b8588dfea28e5d5a7ba546ad8207dc0f.bindPopup(popup_405dfbd35591a645f056f72f5152e744)\n",
       "        ;\n",
       "\n",
       "        \n",
       "    \n",
       "    \n",
       "            var marker_9e49606b413872ef56acd553db1e5ecb = L.marker(\n",
       "                [59.3293, 13.1216],\n",
       "                {}\n",
       "            ).addTo(map_3d03da9980c036e74ab06c90a882aba4);\n",
       "        \n",
       "    \n",
       "        var popup_71bf96a82c8aabf06ad91b2631afe70e = L.popup({&quot;maxWidth&quot;: &quot;100%&quot;});\n",
       "\n",
       "        \n",
       "            \n",
       "                var html_2dd95d1f86804f4fd6074cbf39d3ab3c = $(`&lt;div id=&quot;html_2dd95d1f86804f4fd6074cbf39d3ab3c&quot; style=&quot;width: 100.0%; height: 100.0%;&quot;&gt;Estocolmo-Stehag&lt;/div&gt;`)[0];\n",
       "                popup_71bf96a82c8aabf06ad91b2631afe70e.setContent(html_2dd95d1f86804f4fd6074cbf39d3ab3c);\n",
       "            \n",
       "        \n",
       "\n",
       "        marker_9e49606b413872ef56acd553db1e5ecb.bindPopup(popup_71bf96a82c8aabf06ad91b2631afe70e)\n",
       "        ;\n",
       "\n",
       "        \n",
       "    \n",
       "    \n",
       "            var marker_c697814e56f45133ca496c6efc30be48 = L.marker(\n",
       "                [41.6941, 44.7866],\n",
       "                {}\n",
       "            ).addTo(map_3d03da9980c036e74ab06c90a882aba4);\n",
       "        \n",
       "    \n",
       "        var popup_06fb0e0b1ca72b38813b42f05065c233 = L.popup({&quot;maxWidth&quot;: &quot;100%&quot;});\n",
       "\n",
       "        \n",
       "            \n",
       "                var html_b93e37f8a493a49dac462cfa7a363f2e = $(`&lt;div id=&quot;html_b93e37f8a493a49dac462cfa7a363f2e&quot; style=&quot;width: 100.0%; height: 100.0%;&quot;&gt;Tbilisi&lt;/div&gt;`)[0];\n",
       "                popup_06fb0e0b1ca72b38813b42f05065c233.setContent(html_b93e37f8a493a49dac462cfa7a363f2e);\n",
       "            \n",
       "        \n",
       "\n",
       "        marker_c697814e56f45133ca496c6efc30be48.bindPopup(popup_06fb0e0b1ca72b38813b42f05065c233)\n",
       "        ;\n",
       "\n",
       "        \n",
       "    \n",
       "    \n",
       "            var marker_7b538a8f23fe0f86840e2f69ab017edd = L.marker(\n",
       "                [35.6892, 44.7866],\n",
       "                {}\n",
       "            ).addTo(map_3d03da9980c036e74ab06c90a882aba4);\n",
       "        \n",
       "    \n",
       "        var popup_dd248a257ac3adfa83dbf7d2874c5fc0 = L.popup({&quot;maxWidth&quot;: &quot;100%&quot;});\n",
       "\n",
       "        \n",
       "            \n",
       "                var html_77b10c8f67b7a94019c1b99ef5ee342f = $(`&lt;div id=&quot;html_77b10c8f67b7a94019c1b99ef5ee342f&quot; style=&quot;width: 100.0%; height: 100.0%;&quot;&gt;Teherán&lt;/div&gt;`)[0];\n",
       "                popup_dd248a257ac3adfa83dbf7d2874c5fc0.setContent(html_77b10c8f67b7a94019c1b99ef5ee342f);\n",
       "            \n",
       "        \n",
       "\n",
       "        marker_7b538a8f23fe0f86840e2f69ab017edd.bindPopup(popup_dd248a257ac3adfa83dbf7d2874c5fc0)\n",
       "        ;\n",
       "\n",
       "        \n",
       "    \n",
       "    \n",
       "            var marker_de5389b2c275976161a76518621d101a = L.marker(\n",
       "                [41.3275, 43.7],\n",
       "                {}\n",
       "            ).addTo(map_3d03da9980c036e74ab06c90a882aba4);\n",
       "        \n",
       "    \n",
       "        var popup_bb5fc7b3a37601273e954f7e16b1cf3e = L.popup({&quot;maxWidth&quot;: &quot;100%&quot;});\n",
       "\n",
       "        \n",
       "            \n",
       "                var html_453fd47b2925108bacce74e38d6f9e4a = $(`&lt;div id=&quot;html_453fd47b2925108bacce74e38d6f9e4a&quot; style=&quot;width: 100.0%; height: 100.0%;&quot;&gt;Tirana&lt;/div&gt;`)[0];\n",
       "                popup_bb5fc7b3a37601273e954f7e16b1cf3e.setContent(html_453fd47b2925108bacce74e38d6f9e4a);\n",
       "            \n",
       "        \n",
       "\n",
       "        marker_de5389b2c275976161a76518621d101a.bindPopup(popup_bb5fc7b3a37601273e954f7e16b1cf3e)\n",
       "        ;\n",
       "\n",
       "        \n",
       "    \n",
       "    \n",
       "            var marker_d063c59448d4fe8b86766973748cd15c = L.marker(\n",
       "                [30.8643, 41.9028],\n",
       "                {}\n",
       "            ).addTo(map_3d03da9980c036e74ab06c90a882aba4);\n",
       "        \n",
       "    \n",
       "        var popup_542b6c5c48d5f6335d471b91cda2e6d2 = L.popup({&quot;maxWidth&quot;: &quot;100%&quot;});\n",
       "\n",
       "        \n",
       "            \n",
       "                var html_45018634c47800258b5cc1f606a1a8b6 = $(`&lt;div id=&quot;html_45018634c47800258b5cc1f606a1a8b6&quot; style=&quot;width: 100.0%; height: 100.0%;&quot;&gt;Zhejiang&lt;/div&gt;`)[0];\n",
       "                popup_542b6c5c48d5f6335d471b91cda2e6d2.setContent(html_45018634c47800258b5cc1f606a1a8b6);\n",
       "            \n",
       "        \n",
       "\n",
       "        marker_d063c59448d4fe8b86766973748cd15c.bindPopup(popup_542b6c5c48d5f6335d471b91cda2e6d2)\n",
       "        ;\n",
       "\n",
       "        \n",
       "    \n",
       "    \n",
       "            var marker_a937fa8d5d4f8607087b7d8de33cd074 = L.marker(\n",
       "                [45.0678, 76.2915],\n",
       "                {}\n",
       "            ).addTo(map_3d03da9980c036e74ab06c90a882aba4);\n",
       "        \n",
       "    \n",
       "        var popup_22222528786260660cde7dacbc596659 = L.popup({&quot;maxWidth&quot;: &quot;100%&quot;});\n",
       "\n",
       "        \n",
       "            \n",
       "                var html_ff4b0ae126f3ce6cd0ea838601d522f9 = $(`&lt;div id=&quot;html_ff4b0ae126f3ce6cd0ea838601d522f9&quot; style=&quot;width: 100.0%; height: 100.0%;&quot;&gt;Turín&lt;/div&gt;`)[0];\n",
       "                popup_22222528786260660cde7dacbc596659.setContent(html_ff4b0ae126f3ce6cd0ea838601d522f9);\n",
       "            \n",
       "        \n",
       "\n",
       "        marker_a937fa8d5d4f8607087b7d8de33cd074.bindPopup(popup_22222528786260660cde7dacbc596659)\n",
       "        ;\n",
       "\n",
       "        \n",
       "    \n",
       "    \n",
       "            var marker_1b3dcae610c4eaf8daf94ca17b227c56 = L.marker(\n",
       "                [8.5241, 79.922],\n",
       "                {}\n",
       "            ).addTo(map_3d03da9980c036e74ab06c90a882aba4);\n",
       "        \n",
       "    \n",
       "        var popup_17376e33971dfe4cdba5284f2f8e2deb = L.popup({&quot;maxWidth&quot;: &quot;100%&quot;});\n",
       "\n",
       "        \n",
       "            \n",
       "                var html_e5fd7826f4420976ae1809124b2d6acf = $(`&lt;div id=&quot;html_e5fd7826f4420976ae1809124b2d6acf&quot; style=&quot;width: 100.0%; height: 100.0%;&quot;&gt;Trivandrum&lt;/div&gt;`)[0];\n",
       "                popup_17376e33971dfe4cdba5284f2f8e2deb.setContent(html_e5fd7826f4420976ae1809124b2d6acf);\n",
       "            \n",
       "        \n",
       "\n",
       "        marker_1b3dcae610c4eaf8daf94ca17b227c56.bindPopup(popup_17376e33971dfe4cdba5284f2f8e2deb)\n",
       "        ;\n",
       "\n",
       "        \n",
       "    \n",
       "    \n",
       "            var marker_7f2a9a019d285ee67ad49faeac7b2270 = L.marker(\n",
       "                [21.0278, 21.0122],\n",
       "                {}\n",
       "            ).addTo(map_3d03da9980c036e74ab06c90a882aba4);\n",
       "        \n",
       "    \n",
       "        var popup_c4e8dc8ee860843845536f6d04f808b9 = L.popup({&quot;maxWidth&quot;: &quot;100%&quot;});\n",
       "\n",
       "        \n",
       "            \n",
       "                var html_c5f1b3ab6d80e7fd10f41d447bb4f058 = $(`&lt;div id=&quot;html_c5f1b3ab6d80e7fd10f41d447bb4f058&quot; style=&quot;width: 100.0%; height: 100.0%;&quot;&gt;Viet Hung&lt;/div&gt;`)[0];\n",
       "                popup_c4e8dc8ee860843845536f6d04f808b9.setContent(html_c5f1b3ab6d80e7fd10f41d447bb4f058);\n",
       "            \n",
       "        \n",
       "\n",
       "        marker_7f2a9a019d285ee67ad49faeac7b2270.bindPopup(popup_c4e8dc8ee860843845536f6d04f808b9)\n",
       "        ;\n",
       "\n",
       "        \n",
       "    \n",
       "    \n",
       "            var marker_30a66036b770614c835121ea62005076 = L.marker(\n",
       "                [52.2297, -1.9574],\n",
       "                {}\n",
       "            ).addTo(map_3d03da9980c036e74ab06c90a882aba4);\n",
       "        \n",
       "    \n",
       "        var popup_5fa7c5425b6a4febff729b53758eb5a9 = L.popup({&quot;maxWidth&quot;: &quot;100%&quot;});\n",
       "\n",
       "        \n",
       "            \n",
       "                var html_fc52990ca7d717f55691dde348fb5982 = $(`&lt;div id=&quot;html_fc52990ca7d717f55691dde348fb5982&quot; style=&quot;width: 100.0%; height: 100.0%;&quot;&gt;Varsovia&lt;/div&gt;`)[0];\n",
       "                popup_5fa7c5425b6a4febff729b53758eb5a9.setContent(html_fc52990ca7d717f55691dde348fb5982);\n",
       "            \n",
       "        \n",
       "\n",
       "        marker_30a66036b770614c835121ea62005076.bindPopup(popup_5fa7c5425b6a4febff729b53758eb5a9)\n",
       "        ;\n",
       "\n",
       "        \n",
       "    \n",
       "    \n",
       "            var marker_0dcdb9515db89a504bb90f671b9b4a83 = L.marker(\n",
       "                [43.2849, 8.5417],\n",
       "                {}\n",
       "            ).addTo(map_3d03da9980c036e74ab06c90a882aba4);\n",
       "        \n",
       "    \n",
       "        var popup_2e41dae010a608b78a89dc253956adb5 = L.popup({&quot;maxWidth&quot;: &quot;100%&quot;});\n",
       "\n",
       "        \n",
       "            \n",
       "                var html_3abf234d284aaa875cb416696be58771 = $(`&lt;div id=&quot;html_3abf234d284aaa875cb416696be58771&quot; style=&quot;width: 100.0%; height: 100.0%;&quot;&gt;Zarautz&lt;/div&gt;`)[0];\n",
       "                popup_2e41dae010a608b78a89dc253956adb5.setContent(html_3abf234d284aaa875cb416696be58771);\n",
       "            \n",
       "        \n",
       "\n",
       "        marker_0dcdb9515db89a504bb90f671b9b4a83.bindPopup(popup_2e41dae010a608b78a89dc253956adb5)\n",
       "        ;\n",
       "\n",
       "        \n",
       "    \n",
       "    \n",
       "            tile_layer_78d035196c34c946140c41422520f6b3.addTo(map_3d03da9980c036e74ab06c90a882aba4);\n",
       "        \n",
       "&lt;/script&gt;\n",
       "&lt;/html&gt;\" style=\"position:absolute;width:100%;height:100%;left:0;top:0;border:none !important;\" allowfullscreen webkitallowfullscreen mozallowfullscreen></iframe></div></div>"
      ],
      "text/plain": [
       "<folium.folium.Map at 0x72d54c895460>"
      ]
     },
     "execution_count": 39,
     "metadata": {},
     "output_type": "execute_result"
    }
   ],
   "source": [
    "m"
   ]
  },
  {
   "cell_type": "markdown",
   "id": "5f02080b-f3f1-42b2-b23a-3bdc9b678d86",
   "metadata": {},
   "source": [
    "## ¿En qué idiomas se ha hecho una edición del Quijote?"
   ]
  },
  {
   "cell_type": "code",
   "execution_count": 45,
   "id": "8d7bfdda-ecec-4993-b282-82f4a24e42c3",
   "metadata": {},
   "outputs": [
    {
     "data": {
      "image/png": "[encoded data removed]",
      "text/plain": [
       "<Figure size 640x480 with 1 Axes>"
      ]
     },
     "metadata": {},
     "output_type": "display_data"
    }
   ],
   "source": [
    "plt.imshow(wc, interpolation='bilinear')\n",
    "plt.axis('off')\n",
    "plt.show()"
   ]
  },
  {
   "cell_type": "markdown",
   "id": "b21ffedd-d09c-47bb-9fd5-64d2dc0a67f9",
   "metadata": {},
   "source": [
    "## ¿Cuántas ediciones tiene cada idioma?"
   ]
  },
  {
   "cell_type": "code",
   "execution_count": 28,
   "id": "5ea4ec11-4aaf-44cb-81a6-0064307c0ad8",
   "metadata": {},
   "outputs": [
    {
     "data": {
      "application/vnd.plotly.v1+json": {
       "config": {
        "plotlyServerURL": "https://plot.ly"
       },
       "data": [
        {
         "branchvalues": "total",
         "customdata": [
          [
           1
          ],
          [
           3
          ],
          [
           1
          ],
          [
           2
          ],
          [
           2
          ],
          [
           2
          ],
          [
           1
          ],
          [
           2
          ],
          [
           2
          ],
          [
           2
          ],
          [
           1
          ],
          [
           1
          ],
          [
           2
          ],
          [
           1
          ],
          [
           1
          ],
          [
           2
          ],
          [
           1
          ],
          [
           1
          ],
          [
           1
          ],
          [
           1
          ],
          [
           1
          ],
          [
           2
          ],
          [
           2
          ],
          [
           2
          ],
          [
           4
          ],
          [
           1
          ],
          [
           5
          ],
          [
           2
          ],
          [
           1
          ],
          [
           1
          ],
          [
           2
          ],
          [
           1
          ],
          [
           1
          ],
          [
           2
          ],
          [
           1
          ],
          [
           2
          ],
          [
           4
          ],
          [
           1
          ],
          [
           1
          ],
          [
           2
          ],
          [
           4
          ],
          [
           1
          ],
          [
           1
          ],
          [
           1
          ],
          [
           1
          ],
          [
           1
          ],
          [
           4
          ]
         ],
         "domain": {
          "x": [
           0,
           1
          ],
          "y": [
           0,
           1
          ]
         },
         "hovertemplate": "labels=%{label}<br>n_ediciones_sum=%{value}<br>parent=%{parent}<br>id=%{id}<br>n_ediciones=%{color}<extra></extra>",
         "ids": [
          "Albanés",
          "Alemán",
          "Búlgaro",
          "Catalán",
          "Checo",
          "Chino",
          "Coreano",
          "Croata",
          "Danés",
          "Esloveno",
          "Español",
          "Esperanto",
          "Estonio",
          "Euskera",
          "Finés",
          "Francés",
          "Gallego",
          "Gaélico",
          "Georgiano",
          "Griego",
          "Hebreo",
          "Hindi",
          "Holandés",
          "Húngaro",
          "Inglés",
          "Islandés",
          "Italiano",
          "Japonés",
          "Latín clásico",
          "Letón",
          "Lituano",
          "Malayalam",
          "Maltés",
          "Noruego",
          "Persa",
          "Polaco",
          "Portugués",
          "Rumano",
          "Ruso",
          "Serbio",
          "Sueco",
          "Tagalo",
          "Tailandés",
          "Turco",
          "Vietnamita",
          "Yidis",
          "Árabe"
         ],
         "labels": [
          "Albanés",
          "Alemán",
          "Búlgaro",
          "Catalán",
          "Checo",
          "Chino",
          "Coreano",
          "Croata",
          "Danés",
          "Esloveno",
          "Español",
          "Esperanto",
          "Estonio",
          "Euskera",
          "Finés",
          "Francés",
          "Gallego",
          "Gaélico",
          "Georgiano",
          "Griego",
          "Hebreo",
          "Hindi",
          "Holandés",
          "Húngaro",
          "Inglés",
          "Islandés",
          "Italiano",
          "Japonés",
          "Latín clásico",
          "Letón",
          "Lituano",
          "Malayalam",
          "Maltés",
          "Noruego",
          "Persa",
          "Polaco",
          "Portugués",
          "Rumano",
          "Ruso",
          "Serbio",
          "Sueco",
          "Tagalo",
          "Tailandés",
          "Turco",
          "Vietnamita",
          "Yidis",
          "Árabe"
         ],
         "level": "ae5d9a",
         "marker": {
          "coloraxis": "coloraxis",
          "colors": [
           1,
           3,
           1,
           2,
           2,
           2,
           1,
           2,
           2,
           2,
           1,
           1,
           2,
           1,
           1,
           2,
           1,
           1,
           1,
           1,
           1,
           2,
           2,
           2,
           4,
           1,
           5,
           2,
           1,
           1,
           2,
           1,
           1,
           2,
           1,
           2,
           4,
           1,
           1,
           2,
           4,
           1,
           1,
           1,
           1,
           1,
           4
          ]
         },
         "name": "",
         "parents": [
          "",
          "",
          "",
          "",
          "",
          "",
          "",
          "",
          "",
          "",
          "",
          "",
          "",
          "",
          "",
          "",
          "",
          "",
          "",
          "",
          "",
          "",
          "",
          "",
          "",
          "",
          "",
          "",
          "",
          "",
          "",
          "",
          "",
          "",
          "",
          "",
          "",
          "",
          "",
          "",
          "",
          "",
          "",
          "",
          "",
          "",
          ""
         ],
         "type": "treemap",
         "values": [
          1,
          3,
          1,
          2,
          2,
          2,
          1,
          2,
          2,
          2,
          1,
          1,
          2,
          1,
          1,
          2,
          1,
          1,
          1,
          1,
          1,
          2,
          2,
          2,
          4,
          1,
          5,
          2,
          1,
          1,
          2,
          1,
          1,
          2,
          1,
          2,
          4,
          1,
          1,
          2,
          4,
          1,
          1,
          1,
          1,
          1,
          4
         ]
        }
       ],
       "layout": {
        "autosize": true,
        "coloraxis": {
         "colorbar": {
          "title": {
           "text": "n_ediciones"
          }
         },
         "colorscale": [
          [
           0,
           "rgb(247,251,255)"
          ],
          [
           0.125,
           "rgb(222,235,247)"
          ],
          [
           0.25,
           "rgb(198,219,239)"
          ],
          [
           0.375,
           "rgb(158,202,225)"
          ],
          [
           0.5,
           "rgb(107,174,214)"
          ],
          [
           0.625,
           "rgb(66,146,198)"
          ],
          [
           0.75,
           "rgb(33,113,181)"
          ],
          [
           0.875,
           "rgb(8,81,156)"
          ],
          [
           1,
           "rgb(8,48,107)"
          ]
         ]
        },
        "legend": {
         "tracegroupgap": 0
        },
        "margin": {
         "t": 60
        },
        "template": {
         "data": {
          "bar": [
           {
            "error_x": {
             "color": "#2a3f5f"
            },
            "error_y": {
             "color": "#2a3f5f"
            },
            "marker": {
             "line": {
              "color": "#E5ECF6",
              "width": 0.5
             },
             "pattern": {
              "fillmode": "overlay",
              "size": 10,
              "solidity": 0.2
             }
            },
            "type": "bar"
           }
          ],
          "barpolar": [
           {
            "marker": {
             "line": {
              "color": "#E5ECF6",
              "width": 0.5
             },
             "pattern": {
              "fillmode": "overlay",
              "size": 10,
              "solidity": 0.2
             }
            },
            "type": "barpolar"
           }
          ],
          "carpet": [
           {
            "aaxis": {
             "endlinecolor": "#2a3f5f",
             "gridcolor": "white",
             "linecolor": "white",
             "minorgridcolor": "white",
             "startlinecolor": "#2a3f5f"
            },
            "baxis": {
             "endlinecolor": "#2a3f5f",
             "gridcolor": "white",
             "linecolor": "white",
             "minorgridcolor": "white",
             "startlinecolor": "#2a3f5f"
            },
            "type": "carpet"
           }
          ],
          "choropleth": [
           {
            "colorbar": {
             "outlinewidth": 0,
             "ticks": ""
            },
            "type": "choropleth"
           }
          ],
          "contour": [
           {
            "colorbar": {
             "outlinewidth": 0,
             "ticks": ""
            },
            "colorscale": [
             [
              0,
              "#0d0887"
             ],
             [
              0.1111111111111111,
              "#46039f"
             ],
             [
              0.2222222222222222,
              "#7201a8"
             ],
             [
              0.3333333333333333,
              "#9c179e"
             ],
             [
              0.4444444444444444,
              "#bd3786"
             ],
             [
              0.5555555555555556,
              "#d8576b"
             ],
             [
              0.6666666666666666,
              "#ed7953"
             ],
             [
              0.7777777777777778,
              "#fb9f3a"
             ],
             [
              0.8888888888888888,
              "#fdca26"
             ],
             [
              1,
              "#f0f921"
             ]
            ],
            "type": "contour"
           }
          ],
          "contourcarpet": [
           {
            "colorbar": {
             "outlinewidth": 0,
             "ticks": ""
            },
            "type": "contourcarpet"
           }
          ],
          "heatmap": [
           {
            "colorbar": {
             "outlinewidth": 0,
             "ticks": ""
            },
            "colorscale": [
             [
              0,
              "#0d0887"
             ],
             [
              0.1111111111111111,
              "#46039f"
             ],
             [
              0.2222222222222222,
              "#7201a8"
             ],
             [
              0.3333333333333333,
              "#9c179e"
             ],
             [
              0.4444444444444444,
              "#bd3786"
             ],
             [
              0.5555555555555556,
              "#d8576b"
             ],
             [
              0.6666666666666666,
              "#ed7953"
             ],
             [
              0.7777777777777778,
              "#fb9f3a"
             ],
             [
              0.8888888888888888,
              "#fdca26"
             ],
             [
              1,
              "#f0f921"
             ]
            ],
            "type": "heatmap"
           }
          ],
          "heatmapgl": [
           {
            "colorbar": {
             "outlinewidth": 0,
             "ticks": ""
            },
            "colorscale": [
             [
              0,
              "#0d0887"
             ],
             [
              0.1111111111111111,
              "#46039f"
             ],
             [
              0.2222222222222222,
              "#7201a8"
             ],
             [
              0.3333333333333333,
              "#9c179e"
             ],
             [
              0.4444444444444444,
              "#bd3786"
             ],
             [
              0.5555555555555556,
              "#d8576b"
             ],
             [
              0.6666666666666666,
              "#ed7953"
             ],
             [
              0.7777777777777778,
              "#fb9f3a"
             ],
             [
              0.8888888888888888,
              "#fdca26"
             ],
             [
              1,
              "#f0f921"
             ]
            ],
            "type": "heatmapgl"
           }
          ],
          "histogram": [
           {
            "marker": {
             "pattern": {
              "fillmode": "overlay",
              "size": 10,
              "solidity": 0.2
             }
            },
            "type": "histogram"
           }
          ],
          "histogram2d": [
           {
            "colorbar": {
             "outlinewidth": 0,
             "ticks": ""
            },
            "colorscale": [
             [
              0,
              "#0d0887"
             ],
             [
              0.1111111111111111,
              "#46039f"
             ],
             [
              0.2222222222222222,
              "#7201a8"
             ],
             [
              0.3333333333333333,
              "#9c179e"
             ],
             [
              0.4444444444444444,
              "#bd3786"
             ],
             [
              0.5555555555555556,
              "#d8576b"
             ],
             [
              0.6666666666666666,
              "#ed7953"
             ],
             [
              0.7777777777777778,
              "#fb9f3a"
             ],
             [
              0.8888888888888888,
              "#fdca26"
             ],
             [
              1,
              "#f0f921"
             ]
            ],
            "type": "histogram2d"
           }
          ],
          "histogram2dcontour": [
           {
            "colorbar": {
             "outlinewidth": 0,
             "ticks": ""
            },
            "colorscale": [
             [
              0,
              "#0d0887"
             ],
             [
              0.1111111111111111,
              "#46039f"
             ],
             [
              0.2222222222222222,
              "#7201a8"
             ],
             [
              0.3333333333333333,
              "#9c179e"
             ],
             [
              0.4444444444444444,
              "#bd3786"
             ],
             [
              0.5555555555555556,
              "#d8576b"
             ],
             [
              0.6666666666666666,
              "#ed7953"
             ],
             [
              0.7777777777777778,
              "#fb9f3a"
             ],
             [
              0.8888888888888888,
              "#fdca26"
             ],
             [
              1,
              "#f0f921"
             ]
            ],
            "type": "histogram2dcontour"
           }
          ],
          "mesh3d": [
           {
            "colorbar": {
             "outlinewidth": 0,
             "ticks": ""
            },
            "type": "mesh3d"
           }
          ],
          "parcoords": [
           {
            "line": {
             "colorbar": {
              "outlinewidth": 0,
              "ticks": ""
             }
            },
            "type": "parcoords"
           }
          ],
          "pie": [
           {
            "automargin": true,
            "type": "pie"
           }
          ],
          "scatter": [
           {
            "fillpattern": {
             "fillmode": "overlay",
             "size": 10,
             "solidity": 0.2
            },
            "type": "scatter"
           }
          ],
          "scatter3d": [
           {
            "line": {
             "colorbar": {
              "outlinewidth": 0,
              "ticks": ""
             }
            },
            "marker": {
             "colorbar": {
              "outlinewidth": 0,
              "ticks": ""
             }
            },
            "type": "scatter3d"
           }
          ],
          "scattercarpet": [
           {
            "marker": {
             "colorbar": {
              "outlinewidth": 0,
              "ticks": ""
             }
            },
            "type": "scattercarpet"
           }
          ],
          "scattergeo": [
           {
            "marker": {
             "colorbar": {
              "outlinewidth": 0,
              "ticks": ""
             }
            },
            "type": "scattergeo"
           }
          ],
          "scattergl": [
           {
            "marker": {
             "colorbar": {
              "outlinewidth": 0,
              "ticks": ""
             }
            },
            "type": "scattergl"
           }
          ],
          "scattermapbox": [
           {
            "marker": {
             "colorbar": {
              "outlinewidth": 0,
              "ticks": ""
             }
            },
            "type": "scattermapbox"
           }
          ],
          "scatterpolar": [
           {
            "marker": {
             "colorbar": {
              "outlinewidth": 0,
              "ticks": ""
             }
            },
            "type": "scatterpolar"
           }
          ],
          "scatterpolargl": [
           {
            "marker": {
             "colorbar": {
              "outlinewidth": 0,
              "ticks": ""
             }
            },
            "type": "scatterpolargl"
           }
          ],
          "scatterternary": [
           {
            "marker": {
             "colorbar": {
              "outlinewidth": 0,
              "ticks": ""
             }
            },
            "type": "scatterternary"
           }
          ],
          "surface": [
           {
            "colorbar": {
             "outlinewidth": 0,
             "ticks": ""
            },
            "colorscale": [
             [
              0,
              "#0d0887"
             ],
             [
              0.1111111111111111,
              "#46039f"
             ],
             [
              0.2222222222222222,
              "#7201a8"
             ],
             [
              0.3333333333333333,
              "#9c179e"
             ],
             [
              0.4444444444444444,
              "#bd3786"
             ],
             [
              0.5555555555555556,
              "#d8576b"
             ],
             [
              0.6666666666666666,
              "#ed7953"
             ],
             [
              0.7777777777777778,
              "#fb9f3a"
             ],
             [
              0.8888888888888888,
              "#fdca26"
             ],
             [
              1,
              "#f0f921"
             ]
            ],
            "type": "surface"
           }
          ],
          "table": [
           {
            "cells": {
             "fill": {
              "color": "#EBF0F8"
             },
             "line": {
              "color": "white"
             }
            },
            "header": {
             "fill": {
              "color": "#C8D4E3"
             },
             "line": {
              "color": "white"
             }
            },
            "type": "table"
           }
          ]
         },
         "layout": {
          "annotationdefaults": {
           "arrowcolor": "#2a3f5f",
           "arrowhead": 0,
           "arrowwidth": 1
          },
          "autotypenumbers": "strict",
          "coloraxis": {
           "colorbar": {
            "outlinewidth": 0,
            "ticks": ""
           }
          },
          "colorscale": {
           "diverging": [
            [
             0,
             "#8e0152"
            ],
            [
             0.1,
             "#c51b7d"
            ],
            [
             0.2,
             "#de77ae"
            ],
            [
             0.3,
             "#f1b6da"
            ],
            [
             0.4,
             "#fde0ef"
            ],
            [
             0.5,
             "#f7f7f7"
            ],
            [
             0.6,
             "#e6f5d0"
            ],
            [
             0.7,
             "#b8e186"
            ],
            [
             0.8,
             "#7fbc41"
            ],
            [
             0.9,
             "#4d9221"
            ],
            [
             1,
             "#276419"
            ]
           ],
           "sequential": [
            [
             0,
             "#0d0887"
            ],
            [
             0.1111111111111111,
             "#46039f"
            ],
            [
             0.2222222222222222,
             "#7201a8"
            ],
            [
             0.3333333333333333,
             "#9c179e"
            ],
            [
             0.4444444444444444,
             "#bd3786"
            ],
            [
             0.5555555555555556,
             "#d8576b"
            ],
            [
             0.6666666666666666,
             "#ed7953"
            ],
            [
             0.7777777777777778,
             "#fb9f3a"
            ],
            [
             0.8888888888888888,
             "#fdca26"
            ],
            [
             1,
             "#f0f921"
            ]
           ],
           "sequentialminus": [
            [
             0,
             "#0d0887"
            ],
            [
             0.1111111111111111,
             "#46039f"
            ],
            [
             0.2222222222222222,
             "#7201a8"
            ],
            [
             0.3333333333333333,
             "#9c179e"
            ],
            [
             0.4444444444444444,
             "#bd3786"
            ],
            [
             0.5555555555555556,
             "#d8576b"
            ],
            [
             0.6666666666666666,
             "#ed7953"
            ],
            [
             0.7777777777777778,
             "#fb9f3a"
            ],
            [
             0.8888888888888888,
             "#fdca26"
            ],
            [
             1,
             "#f0f921"
            ]
           ]
          },
          "colorway": [
           "#636efa",
           "#EF553B",
           "#00cc96",
           "#ab63fa",
           "#FFA15A",
           "#19d3f3",
           "#FF6692",
           "#B6E880",
           "#FF97FF",
           "#FECB52"
          ],
          "font": {
           "color": "#2a3f5f"
          },
          "geo": {
           "bgcolor": "white",
           "lakecolor": "white",
           "landcolor": "#E5ECF6",
           "showlakes": true,
           "showland": true,
           "subunitcolor": "white"
          },
          "hoverlabel": {
           "align": "left"
          },
          "hovermode": "closest",
          "mapbox": {
           "style": "light"
          },
          "paper_bgcolor": "white",
          "plot_bgcolor": "#E5ECF6",
          "polar": {
           "angularaxis": {
            "gridcolor": "white",
            "linecolor": "white",
            "ticks": ""
           },
           "bgcolor": "#E5ECF6",
           "radialaxis": {
            "gridcolor": "white",
            "linecolor": "white",
            "ticks": ""
           }
          },
          "scene": {
           "xaxis": {
            "backgroundcolor": "#E5ECF6",
            "gridcolor": "white",
            "gridwidth": 2,
            "linecolor": "white",
            "showbackground": true,
            "ticks": "",
            "zerolinecolor": "white"
           },
           "yaxis": {
            "backgroundcolor": "#E5ECF6",
            "gridcolor": "white",
            "gridwidth": 2,
            "linecolor": "white",
            "showbackground": true,
            "ticks": "",
            "zerolinecolor": "white"
           },
           "zaxis": {
            "backgroundcolor": "#E5ECF6",
            "gridcolor": "white",
            "gridwidth": 2,
            "linecolor": "white",
            "showbackground": true,
            "ticks": "",
            "zerolinecolor": "white"
           }
          },
          "shapedefaults": {
           "line": {
            "color": "#2a3f5f"
           }
          },
          "ternary": {
           "aaxis": {
            "gridcolor": "white",
            "linecolor": "white",
            "ticks": ""
           },
           "baxis": {
            "gridcolor": "white",
            "linecolor": "white",
            "ticks": ""
           },
           "bgcolor": "#E5ECF6",
           "caxis": {
            "gridcolor": "white",
            "linecolor": "white",
            "ticks": ""
           }
          },
          "title": {
           "x": 0.05
          },
          "xaxis": {
           "automargin": true,
           "gridcolor": "white",
           "linecolor": "white",
           "ticks": "",
           "title": {
            "standoff": 15
           },
           "zerolinecolor": "white",
           "zerolinewidth": 2
          },
          "yaxis": {
           "automargin": true,
           "gridcolor": "white",
           "linecolor": "white",
           "ticks": "",
           "title": {
            "standoff": 15
           },
           "zerolinecolor": "white",
           "zerolinewidth": 2
          }
         }
        }
       }
      },
      "image/png": "[encoded data removed]",
      "text/html": [
       "<div>                            <div id=\"0bf29da0-6ac8-471d-ae85-abb20e1ac377\" class=\"plotly-graph-div\" style=\"height:525px; width:100%;\"></div>            <script type=\"text/javascript\">                require([\"plotly\"], function(Plotly) {                    window.PLOTLYENV=window.PLOTLYENV || {};                                    if (document.getElementById(\"0bf29da0-6ac8-471d-ae85-abb20e1ac377\")) {                    Plotly.newPlot(                        \"0bf29da0-6ac8-471d-ae85-abb20e1ac377\",                        [{\"branchvalues\":\"total\",\"customdata\":[[1.0],[3.0],[1.0],[2.0],[2.0],[2.0],[1.0],[2.0],[2.0],[2.0],[1.0],[1.0],[2.0],[1.0],[1.0],[2.0],[1.0],[1.0],[1.0],[1.0],[1.0],[2.0],[2.0],[2.0],[4.0],[1.0],[5.0],[2.0],[1.0],[1.0],[2.0],[1.0],[1.0],[2.0],[1.0],[2.0],[4.0],[1.0],[1.0],[2.0],[4.0],[1.0],[1.0],[1.0],[1.0],[1.0],[4.0]],\"domain\":{\"x\":[0.0,1.0],\"y\":[0.0,1.0]},\"hovertemplate\":\"labels=%{label}\\u003cbr\\u003en_ediciones_sum=%{value}\\u003cbr\\u003eparent=%{parent}\\u003cbr\\u003eid=%{id}\\u003cbr\\u003en_ediciones=%{color}\\u003cextra\\u003e\\u003c\\u002fextra\\u003e\",\"ids\":[\"Albanés\",\"Alemán\",\"Búlgaro\",\"Catalán\",\"Checo\",\"Chino\",\"Coreano\",\"Croata\",\"Danés\",\"Esloveno\",\"Español\",\"Esperanto\",\"Estonio\",\"Euskera\",\"Finés\",\"Francés\",\"Gallego\",\"Gaélico\",\"Georgiano\",\"Griego\",\"Hebreo\",\"Hindi\",\"Holandés\",\"Húngaro\",\"Inglés\",\"Islandés\",\"Italiano\",\"Japonés\",\"Latín clásico\",\"Letón\",\"Lituano\",\"Malayalam\",\"Maltés\",\"Noruego\",\"Persa\",\"Polaco\",\"Portugués\",\"Rumano\",\"Ruso\",\"Serbio\",\"Sueco\",\"Tagalo\",\"Tailandés\",\"Turco\",\"Vietnamita\",\"Yidis\",\"Árabe\"],\"labels\":[\"Albanés\",\"Alemán\",\"Búlgaro\",\"Catalán\",\"Checo\",\"Chino\",\"Coreano\",\"Croata\",\"Danés\",\"Esloveno\",\"Español\",\"Esperanto\",\"Estonio\",\"Euskera\",\"Finés\",\"Francés\",\"Gallego\",\"Gaélico\",\"Georgiano\",\"Griego\",\"Hebreo\",\"Hindi\",\"Holandés\",\"Húngaro\",\"Inglés\",\"Islandés\",\"Italiano\",\"Japonés\",\"Latín clásico\",\"Letón\",\"Lituano\",\"Malayalam\",\"Maltés\",\"Noruego\",\"Persa\",\"Polaco\",\"Portugués\",\"Rumano\",\"Ruso\",\"Serbio\",\"Sueco\",\"Tagalo\",\"Tailandés\",\"Turco\",\"Vietnamita\",\"Yidis\",\"Árabe\"],\"marker\":{\"coloraxis\":\"coloraxis\",\"colors\":[1.0,3.0,1.0,2.0,2.0,2.0,1.0,2.0,2.0,2.0,1.0,1.0,2.0,1.0,1.0,2.0,1.0,1.0,1.0,1.0,1.0,2.0,2.0,2.0,4.0,1.0,5.0,2.0,1.0,1.0,2.0,1.0,1.0,2.0,1.0,2.0,4.0,1.0,1.0,2.0,4.0,1.0,1.0,1.0,1.0,1.0,4.0]},\"name\":\"\",\"parents\":[\"\",\"\",\"\",\"\",\"\",\"\",\"\",\"\",\"\",\"\",\"\",\"\",\"\",\"\",\"\",\"\",\"\",\"\",\"\",\"\",\"\",\"\",\"\",\"\",\"\",\"\",\"\",\"\",\"\",\"\",\"\",\"\",\"\",\"\",\"\",\"\",\"\",\"\",\"\",\"\",\"\",\"\",\"\",\"\",\"\",\"\",\"\"],\"values\":[1,3,1,2,2,2,1,2,2,2,1,1,2,1,1,2,1,1,1,1,1,2,2,2,4,1,5,2,1,1,2,1,1,2,1,2,4,1,1,2,4,1,1,1,1,1,4],\"type\":\"treemap\"}],                        {\"template\":{\"data\":{\"histogram2dcontour\":[{\"type\":\"histogram2dcontour\",\"colorbar\":{\"outlinewidth\":0,\"ticks\":\"\"},\"colorscale\":[[0.0,\"#0d0887\"],[0.1111111111111111,\"#46039f\"],[0.2222222222222222,\"#7201a8\"],[0.3333333333333333,\"#9c179e\"],[0.4444444444444444,\"#bd3786\"],[0.5555555555555556,\"#d8576b\"],[0.6666666666666666,\"#ed7953\"],[0.7777777777777778,\"#fb9f3a\"],[0.8888888888888888,\"#fdca26\"],[1.0,\"#f0f921\"]]}],\"choropleth\":[{\"type\":\"choropleth\",\"colorbar\":{\"outlinewidth\":0,\"ticks\":\"\"}}],\"histogram2d\":[{\"type\":\"histogram2d\",\"colorbar\":{\"outlinewidth\":0,\"ticks\":\"\"},\"colorscale\":[[0.0,\"#0d0887\"],[0.1111111111111111,\"#46039f\"],[0.2222222222222222,\"#7201a8\"],[0.3333333333333333,\"#9c179e\"],[0.4444444444444444,\"#bd3786\"],[0.5555555555555556,\"#d8576b\"],[0.6666666666666666,\"#ed7953\"],[0.7777777777777778,\"#fb9f3a\"],[0.8888888888888888,\"#fdca26\"],[1.0,\"#f0f921\"]]}],\"heatmap\":[{\"type\":\"heatmap\",\"colorbar\":{\"outlinewidth\":0,\"ticks\":\"\"},\"colorscale\":[[0.0,\"#0d0887\"],[0.1111111111111111,\"#46039f\"],[0.2222222222222222,\"#7201a8\"],[0.3333333333333333,\"#9c179e\"],[0.4444444444444444,\"#bd3786\"],[0.5555555555555556,\"#d8576b\"],[0.6666666666666666,\"#ed7953\"],[0.7777777777777778,\"#fb9f3a\"],[0.8888888888888888,\"#fdca26\"],[1.0,\"#f0f921\"]]}],\"heatmapgl\":[{\"type\":\"heatmapgl\",\"colorbar\":{\"outlinewidth\":0,\"ticks\":\"\"},\"colorscale\":[[0.0,\"#0d0887\"],[0.1111111111111111,\"#46039f\"],[0.2222222222222222,\"#7201a8\"],[0.3333333333333333,\"#9c179e\"],[0.4444444444444444,\"#bd3786\"],[0.5555555555555556,\"#d8576b\"],[0.6666666666666666,\"#ed7953\"],[0.7777777777777778,\"#fb9f3a\"],[0.8888888888888888,\"#fdca26\"],[1.0,\"#f0f921\"]]}],\"contourcarpet\":[{\"type\":\"contourcarpet\",\"colorbar\":{\"outlinewidth\":0,\"ticks\":\"\"}}],\"contour\":[{\"type\":\"contour\",\"colorbar\":{\"outlinewidth\":0,\"ticks\":\"\"},\"colorscale\":[[0.0,\"#0d0887\"],[0.1111111111111111,\"#46039f\"],[0.2222222222222222,\"#7201a8\"],[0.3333333333333333,\"#9c179e\"],[0.4444444444444444,\"#bd3786\"],[0.5555555555555556,\"#d8576b\"],[0.6666666666666666,\"#ed7953\"],[0.7777777777777778,\"#fb9f3a\"],[0.8888888888888888,\"#fdca26\"],[1.0,\"#f0f921\"]]}],\"surface\":[{\"type\":\"surface\",\"colorbar\":{\"outlinewidth\":0,\"ticks\":\"\"},\"colorscale\":[[0.0,\"#0d0887\"],[0.1111111111111111,\"#46039f\"],[0.2222222222222222,\"#7201a8\"],[0.3333333333333333,\"#9c179e\"],[0.4444444444444444,\"#bd3786\"],[0.5555555555555556,\"#d8576b\"],[0.6666666666666666,\"#ed7953\"],[0.7777777777777778,\"#fb9f3a\"],[0.8888888888888888,\"#fdca26\"],[1.0,\"#f0f921\"]]}],\"mesh3d\":[{\"type\":\"mesh3d\",\"colorbar\":{\"outlinewidth\":0,\"ticks\":\"\"}}],\"scatter\":[{\"fillpattern\":{\"fillmode\":\"overlay\",\"size\":10,\"solidity\":0.2},\"type\":\"scatter\"}],\"parcoords\":[{\"type\":\"parcoords\",\"line\":{\"colorbar\":{\"outlinewidth\":0,\"ticks\":\"\"}}}],\"scatterpolargl\":[{\"type\":\"scatterpolargl\",\"marker\":{\"colorbar\":{\"outlinewidth\":0,\"ticks\":\"\"}}}],\"bar\":[{\"error_x\":{\"color\":\"#2a3f5f\"},\"error_y\":{\"color\":\"#2a3f5f\"},\"marker\":{\"line\":{\"color\":\"#E5ECF6\",\"width\":0.5},\"pattern\":{\"fillmode\":\"overlay\",\"size\":10,\"solidity\":0.2}},\"type\":\"bar\"}],\"scattergeo\":[{\"type\":\"scattergeo\",\"marker\":{\"colorbar\":{\"outlinewidth\":0,\"ticks\":\"\"}}}],\"scatterpolar\":[{\"type\":\"scatterpolar\",\"marker\":{\"colorbar\":{\"outlinewidth\":0,\"ticks\":\"\"}}}],\"histogram\":[{\"marker\":{\"pattern\":{\"fillmode\":\"overlay\",\"size\":10,\"solidity\":0.2}},\"type\":\"histogram\"}],\"scattergl\":[{\"type\":\"scattergl\",\"marker\":{\"colorbar\":{\"outlinewidth\":0,\"ticks\":\"\"}}}],\"scatter3d\":[{\"type\":\"scatter3d\",\"line\":{\"colorbar\":{\"outlinewidth\":0,\"ticks\":\"\"}},\"marker\":{\"colorbar\":{\"outlinewidth\":0,\"ticks\":\"\"}}}],\"scattermapbox\":[{\"type\":\"scattermapbox\",\"marker\":{\"colorbar\":{\"outlinewidth\":0,\"ticks\":\"\"}}}],\"scatterternary\":[{\"type\":\"scatterternary\",\"marker\":{\"colorbar\":{\"outlinewidth\":0,\"ticks\":\"\"}}}],\"scattercarpet\":[{\"type\":\"scattercarpet\",\"marker\":{\"colorbar\":{\"outlinewidth\":0,\"ticks\":\"\"}}}],\"carpet\":[{\"aaxis\":{\"endlinecolor\":\"#2a3f5f\",\"gridcolor\":\"white\",\"linecolor\":\"white\",\"minorgridcolor\":\"white\",\"startlinecolor\":\"#2a3f5f\"},\"baxis\":{\"endlinecolor\":\"#2a3f5f\",\"gridcolor\":\"white\",\"linecolor\":\"white\",\"minorgridcolor\":\"white\",\"startlinecolor\":\"#2a3f5f\"},\"type\":\"carpet\"}],\"table\":[{\"cells\":{\"fill\":{\"color\":\"#EBF0F8\"},\"line\":{\"color\":\"white\"}},\"header\":{\"fill\":{\"color\":\"#C8D4E3\"},\"line\":{\"color\":\"white\"}},\"type\":\"table\"}],\"barpolar\":[{\"marker\":{\"line\":{\"color\":\"#E5ECF6\",\"width\":0.5},\"pattern\":{\"fillmode\":\"overlay\",\"size\":10,\"solidity\":0.2}},\"type\":\"barpolar\"}],\"pie\":[{\"automargin\":true,\"type\":\"pie\"}]},\"layout\":{\"autotypenumbers\":\"strict\",\"colorway\":[\"#636efa\",\"#EF553B\",\"#00cc96\",\"#ab63fa\",\"#FFA15A\",\"#19d3f3\",\"#FF6692\",\"#B6E880\",\"#FF97FF\",\"#FECB52\"],\"font\":{\"color\":\"#2a3f5f\"},\"hovermode\":\"closest\",\"hoverlabel\":{\"align\":\"left\"},\"paper_bgcolor\":\"white\",\"plot_bgcolor\":\"#E5ECF6\",\"polar\":{\"bgcolor\":\"#E5ECF6\",\"angularaxis\":{\"gridcolor\":\"white\",\"linecolor\":\"white\",\"ticks\":\"\"},\"radialaxis\":{\"gridcolor\":\"white\",\"linecolor\":\"white\",\"ticks\":\"\"}},\"ternary\":{\"bgcolor\":\"#E5ECF6\",\"aaxis\":{\"gridcolor\":\"white\",\"linecolor\":\"white\",\"ticks\":\"\"},\"baxis\":{\"gridcolor\":\"white\",\"linecolor\":\"white\",\"ticks\":\"\"},\"caxis\":{\"gridcolor\":\"white\",\"linecolor\":\"white\",\"ticks\":\"\"}},\"coloraxis\":{\"colorbar\":{\"outlinewidth\":0,\"ticks\":\"\"}},\"colorscale\":{\"sequential\":[[0.0,\"#0d0887\"],[0.1111111111111111,\"#46039f\"],[0.2222222222222222,\"#7201a8\"],[0.3333333333333333,\"#9c179e\"],[0.4444444444444444,\"#bd3786\"],[0.5555555555555556,\"#d8576b\"],[0.6666666666666666,\"#ed7953\"],[0.7777777777777778,\"#fb9f3a\"],[0.8888888888888888,\"#fdca26\"],[1.0,\"#f0f921\"]],\"sequentialminus\":[[0.0,\"#0d0887\"],[0.1111111111111111,\"#46039f\"],[0.2222222222222222,\"#7201a8\"],[0.3333333333333333,\"#9c179e\"],[0.4444444444444444,\"#bd3786\"],[0.5555555555555556,\"#d8576b\"],[0.6666666666666666,\"#ed7953\"],[0.7777777777777778,\"#fb9f3a\"],[0.8888888888888888,\"#fdca26\"],[1.0,\"#f0f921\"]],\"diverging\":[[0,\"#8e0152\"],[0.1,\"#c51b7d\"],[0.2,\"#de77ae\"],[0.3,\"#f1b6da\"],[0.4,\"#fde0ef\"],[0.5,\"#f7f7f7\"],[0.6,\"#e6f5d0\"],[0.7,\"#b8e186\"],[0.8,\"#7fbc41\"],[0.9,\"#4d9221\"],[1,\"#276419\"]]},\"xaxis\":{\"gridcolor\":\"white\",\"linecolor\":\"white\",\"ticks\":\"\",\"title\":{\"standoff\":15},\"zerolinecolor\":\"white\",\"automargin\":true,\"zerolinewidth\":2},\"yaxis\":{\"gridcolor\":\"white\",\"linecolor\":\"white\",\"ticks\":\"\",\"title\":{\"standoff\":15},\"zerolinecolor\":\"white\",\"automargin\":true,\"zerolinewidth\":2},\"scene\":{\"xaxis\":{\"backgroundcolor\":\"#E5ECF6\",\"gridcolor\":\"white\",\"linecolor\":\"white\",\"showbackground\":true,\"ticks\":\"\",\"zerolinecolor\":\"white\",\"gridwidth\":2},\"yaxis\":{\"backgroundcolor\":\"#E5ECF6\",\"gridcolor\":\"white\",\"linecolor\":\"white\",\"showbackground\":true,\"ticks\":\"\",\"zerolinecolor\":\"white\",\"gridwidth\":2},\"zaxis\":{\"backgroundcolor\":\"#E5ECF6\",\"gridcolor\":\"white\",\"linecolor\":\"white\",\"showbackground\":true,\"ticks\":\"\",\"zerolinecolor\":\"white\",\"gridwidth\":2}},\"shapedefaults\":{\"line\":{\"color\":\"#2a3f5f\"}},\"annotationdefaults\":{\"arrowcolor\":\"#2a3f5f\",\"arrowhead\":0,\"arrowwidth\":1},\"geo\":{\"bgcolor\":\"white\",\"landcolor\":\"#E5ECF6\",\"subunitcolor\":\"white\",\"showland\":true,\"showlakes\":true,\"lakecolor\":\"white\"},\"title\":{\"x\":0.05},\"mapbox\":{\"style\":\"light\"}}},\"coloraxis\":{\"colorbar\":{\"title\":{\"text\":\"n_ediciones\"}},\"colorscale\":[[0.0,\"rgb(247,251,255)\"],[0.125,\"rgb(222,235,247)\"],[0.25,\"rgb(198,219,239)\"],[0.375,\"rgb(158,202,225)\"],[0.5,\"rgb(107,174,214)\"],[0.625,\"rgb(66,146,198)\"],[0.75,\"rgb(33,113,181)\"],[0.875,\"rgb(8,81,156)\"],[1.0,\"rgb(8,48,107)\"]]},\"legend\":{\"tracegroupgap\":0},\"margin\":{\"t\":60}},                        {\"responsive\": true}                    ).then(function(){\n",
       "                            \n",
       "var gd = document.getElementById('0bf29da0-6ac8-471d-ae85-abb20e1ac377');\n",
       "var x = new MutationObserver(function (mutations, observer) {{\n",
       "        var display = window.getComputedStyle(gd).display;\n",
       "        if (!display || display === 'none') {{\n",
       "            console.log([gd, 'removed!']);\n",
       "            Plotly.purge(gd);\n",
       "            observer.disconnect();\n",
       "        }}\n",
       "}});\n",
       "\n",
       "// Listen for the removal of the full notebook cells\n",
       "var notebookContainer = gd.closest('#notebook-container');\n",
       "if (notebookContainer) {{\n",
       "    x.observe(notebookContainer, {childList: true});\n",
       "}}\n",
       "\n",
       "// Listen for the clearing of the current output cell\n",
       "var outputEl = gd.closest('.output');\n",
       "if (outputEl) {{\n",
       "    x.observe(outputEl, {childList: true});\n",
       "}}\n",
       "\n",
       "                        })                };                });            </script>        </div>"
      ]
     },
     "metadata": {},
     "output_type": "display_data"
    }
   ],
   "source": [
    "fig2.show()"
   ]
  },
  {
   "cell_type": "markdown",
   "id": "0f96c094-c6fe-42c7-ba98-1986e3fff6e6",
   "metadata": {},
   "source": [
    "## ¿Qué lenguas nos sorprenden?"
   ]
  },
  {
   "cell_type": "code",
   "execution_count": 15,
   "id": "8af60a87-afa3-4276-8ed7-db8631735715",
   "metadata": {},
   "outputs": [
    {
     "data": {
      "application/vnd.plotly.v1+json": {
       "config": {
        "plotlyServerURL": "https://plot.ly"
       },
       "data": [
        {
         "domain": {
          "x": [
           0,
           1
          ],
          "y": [
           0,
           1
          ]
         },
         "hovertemplate": "label=%{label}<br>parent=%{parent}<extra></extra>",
         "labels": [
          "Lenguas",
          "Euskera",
          "Esperanto",
          "Latín clásico",
          "Gallego",
          "Yídish",
          "El euskera es la lengua viva<br>más antigua de Europa. La mayoría<br>de lingüistas, expertos e investigadores así<br>lo afirman. El euskera es una<br>lengua muy antigua cuyos orígenes aún<br>se desconocen. Lingüistas e historiadores de<br>renombre creen que puede ser descendiente<br>directo de la lengua hablada por<br>los habitantes de las cuevas de<br>Altamira, Ekain o Lascaux.",
          "El esperanto es la lengua planificada<br>internacional más difundida y hablada en<br>el mundo.​ El nombre proviene del<br>seudónimo que L. L. Zamenhof, un<br>oftalmólogo polaco, utilizó para publicar las<br>bases del idioma en 1887.",
          "Podemos considerar que el latín clásico<br>es la lengua hablada por las<br>clases cultas romanas desde aproximadamente el<br>siglo II a.C. hasta aproximadamente el<br>siglo II d.C.",
          "El gallego es un idioma romance<br>derivado del latín mientras que el<br>gaélico pertenece a la rama celta.<br>La similitud de sus nombres es<br>algo anecdótico, tienen tanto parecido como<br>el inglés y las ingles.",
          "El yiddish es un idioma que<br>alguna vez hablaron judíos en un<br>área que se extendía desde Alsacia<br>hasta los Urales, influenciado e influenciado<br>por los idiomas y culturas locales.<br>Estuvo a punto de extinguirse en<br>el siglo XX, cuando perdió a<br>la mayoría de sus hablantes, principalmente<br>(pero no sólo) a través del<br>Holocausto.",
          "https://www.bizkaiatalent.eus/en/pais-vasco-te-espera/senas-de-identidad/euskera-antigua-europa/#:~:text=Euskera%20is%20the%20oldest%20living,of%20Altamira%2C%20Ekain%20or%20Lascaux",
          "https://es.wikipedia.org/wiki/Esperanto",
          "https://www.uv.es/ivorra/Latin/evolucion.htm",
          "https://es.quora.com/Se-parecen-el-idioma-ga%C3%A9lico-y-el-gallego#:~:text=El%20gallego%20es%20un%20idioma,el%20ingl%C3%A9s%20y%20las%20ingles",
          "https://www.europarl.europa.eu/thinktank/en/document/EPRS_BRI(2022)698881#:~:text=Yiddish%20is%20a%20language%20once,not%20only%20%E2%80%93%20through%20the%20Holocaust"
         ],
         "name": "",
         "parents": [
          "",
          "Lenguas",
          "Lenguas",
          "Lenguas",
          "Lenguas",
          "Lenguas",
          "Euskera",
          "Esperanto",
          "Latín clásico",
          "Gallego",
          "Yídish",
          "Euskera",
          "Esperanto",
          "Latín clásico",
          "Gallego",
          "Yídish"
         ],
         "type": "treemap"
        }
       ],
       "layout": {
        "autosize": true,
        "legend": {
         "tracegroupgap": 0
        },
        "margin": {
         "t": 60
        },
        "template": {
         "data": {
          "bar": [
           {
            "error_x": {
             "color": "#2a3f5f"
            },
            "error_y": {
             "color": "#2a3f5f"
            },
            "marker": {
             "line": {
              "color": "#E5ECF6",
              "width": 0.5
             },
             "pattern": {
              "fillmode": "overlay",
              "size": 10,
              "solidity": 0.2
             }
            },
            "type": "bar"
           }
          ],
          "barpolar": [
           {
            "marker": {
             "line": {
              "color": "#E5ECF6",
              "width": 0.5
             },
             "pattern": {
              "fillmode": "overlay",
              "size": 10,
              "solidity": 0.2
             }
            },
            "type": "barpolar"
           }
          ],
          "carpet": [
           {
            "aaxis": {
             "endlinecolor": "#2a3f5f",
             "gridcolor": "white",
             "linecolor": "white",
             "minorgridcolor": "white",
             "startlinecolor": "#2a3f5f"
            },
            "baxis": {
             "endlinecolor": "#2a3f5f",
             "gridcolor": "white",
             "linecolor": "white",
             "minorgridcolor": "white",
             "startlinecolor": "#2a3f5f"
            },
            "type": "carpet"
           }
          ],
          "choropleth": [
           {
            "colorbar": {
             "outlinewidth": 0,
             "ticks": ""
            },
            "type": "choropleth"
           }
          ],
          "contour": [
           {
            "colorbar": {
             "outlinewidth": 0,
             "ticks": ""
            },
            "colorscale": [
             [
              0,
              "#0d0887"
             ],
             [
              0.1111111111111111,
              "#46039f"
             ],
             [
              0.2222222222222222,
              "#7201a8"
             ],
             [
              0.3333333333333333,
              "#9c179e"
             ],
             [
              0.4444444444444444,
              "#bd3786"
             ],
             [
              0.5555555555555556,
              "#d8576b"
             ],
             [
              0.6666666666666666,
              "#ed7953"
             ],
             [
              0.7777777777777778,
              "#fb9f3a"
             ],
             [
              0.8888888888888888,
              "#fdca26"
             ],
             [
              1,
              "#f0f921"
             ]
            ],
            "type": "contour"
           }
          ],
          "contourcarpet": [
           {
            "colorbar": {
             "outlinewidth": 0,
             "ticks": ""
            },
            "type": "contourcarpet"
           }
          ],
          "heatmap": [
           {
            "colorbar": {
             "outlinewidth": 0,
             "ticks": ""
            },
            "colorscale": [
             [
              0,
              "#0d0887"
             ],
             [
              0.1111111111111111,
              "#46039f"
             ],
             [
              0.2222222222222222,
              "#7201a8"
             ],
             [
              0.3333333333333333,
              "#9c179e"
             ],
             [
              0.4444444444444444,
              "#bd3786"
             ],
             [
              0.5555555555555556,
              "#d8576b"
             ],
             [
              0.6666666666666666,
              "#ed7953"
             ],
             [
              0.7777777777777778,
              "#fb9f3a"
             ],
             [
              0.8888888888888888,
              "#fdca26"
             ],
             [
              1,
              "#f0f921"
             ]
            ],
            "type": "heatmap"
           }
          ],
          "heatmapgl": [
           {
            "colorbar": {
             "outlinewidth": 0,
             "ticks": ""
            },
            "colorscale": [
             [
              0,
              "#0d0887"
             ],
             [
              0.1111111111111111,
              "#46039f"
             ],
             [
              0.2222222222222222,
              "#7201a8"
             ],
             [
              0.3333333333333333,
              "#9c179e"
             ],
             [
              0.4444444444444444,
              "#bd3786"
             ],
             [
              0.5555555555555556,
              "#d8576b"
             ],
             [
              0.6666666666666666,
              "#ed7953"
             ],
             [
              0.7777777777777778,
              "#fb9f3a"
             ],
             [
              0.8888888888888888,
              "#fdca26"
             ],
             [
              1,
              "#f0f921"
             ]
            ],
            "type": "heatmapgl"
           }
          ],
          "histogram": [
           {
            "marker": {
             "pattern": {
              "fillmode": "overlay",
              "size": 10,
              "solidity": 0.2
             }
            },
            "type": "histogram"
           }
          ],
          "histogram2d": [
           {
            "colorbar": {
             "outlinewidth": 0,
             "ticks": ""
            },
            "colorscale": [
             [
              0,
              "#0d0887"
             ],
             [
              0.1111111111111111,
              "#46039f"
             ],
             [
              0.2222222222222222,
              "#7201a8"
             ],
             [
              0.3333333333333333,
              "#9c179e"
             ],
             [
              0.4444444444444444,
              "#bd3786"
             ],
             [
              0.5555555555555556,
              "#d8576b"
             ],
             [
              0.6666666666666666,
              "#ed7953"
             ],
             [
              0.7777777777777778,
              "#fb9f3a"
             ],
             [
              0.8888888888888888,
              "#fdca26"
             ],
             [
              1,
              "#f0f921"
             ]
            ],
            "type": "histogram2d"
           }
          ],
          "histogram2dcontour": [
           {
            "colorbar": {
             "outlinewidth": 0,
             "ticks": ""
            },
            "colorscale": [
             [
              0,
              "#0d0887"
             ],
             [
              0.1111111111111111,
              "#46039f"
             ],
             [
              0.2222222222222222,
              "#7201a8"
             ],
             [
              0.3333333333333333,
              "#9c179e"
             ],
             [
              0.4444444444444444,
              "#bd3786"
             ],
             [
              0.5555555555555556,
              "#d8576b"
             ],
             [
              0.6666666666666666,
              "#ed7953"
             ],
             [
              0.7777777777777778,
              "#fb9f3a"
             ],
             [
              0.8888888888888888,
              "#fdca26"
             ],
             [
              1,
              "#f0f921"
             ]
            ],
            "type": "histogram2dcontour"
           }
          ],
          "mesh3d": [
           {
            "colorbar": {
             "outlinewidth": 0,
             "ticks": ""
            },
            "type": "mesh3d"
           }
          ],
          "parcoords": [
           {
            "line": {
             "colorbar": {
              "outlinewidth": 0,
              "ticks": ""
             }
            },
            "type": "parcoords"
           }
          ],
          "pie": [
           {
            "automargin": true,
            "type": "pie"
           }
          ],
          "scatter": [
           {
            "fillpattern": {
             "fillmode": "overlay",
             "size": 10,
             "solidity": 0.2
            },
            "type": "scatter"
           }
          ],
          "scatter3d": [
           {
            "line": {
             "colorbar": {
              "outlinewidth": 0,
              "ticks": ""
             }
            },
            "marker": {
             "colorbar": {
              "outlinewidth": 0,
              "ticks": ""
             }
            },
            "type": "scatter3d"
           }
          ],
          "scattercarpet": [
           {
            "marker": {
             "colorbar": {
              "outlinewidth": 0,
              "ticks": ""
             }
            },
            "type": "scattercarpet"
           }
          ],
          "scattergeo": [
           {
            "marker": {
             "colorbar": {
              "outlinewidth": 0,
              "ticks": ""
             }
            },
            "type": "scattergeo"
           }
          ],
          "scattergl": [
           {
            "marker": {
             "colorbar": {
              "outlinewidth": 0,
              "ticks": ""
             }
            },
            "type": "scattergl"
           }
          ],
          "scattermapbox": [
           {
            "marker": {
             "colorbar": {
              "outlinewidth": 0,
              "ticks": ""
             }
            },
            "type": "scattermapbox"
           }
          ],
          "scatterpolar": [
           {
            "marker": {
             "colorbar": {
              "outlinewidth": 0,
              "ticks": ""
             }
            },
            "type": "scatterpolar"
           }
          ],
          "scatterpolargl": [
           {
            "marker": {
             "colorbar": {
              "outlinewidth": 0,
              "ticks": ""
             }
            },
            "type": "scatterpolargl"
           }
          ],
          "scatterternary": [
           {
            "marker": {
             "colorbar": {
              "outlinewidth": 0,
              "ticks": ""
             }
            },
            "type": "scatterternary"
           }
          ],
          "surface": [
           {
            "colorbar": {
             "outlinewidth": 0,
             "ticks": ""
            },
            "colorscale": [
             [
              0,
              "#0d0887"
             ],
             [
              0.1111111111111111,
              "#46039f"
             ],
             [
              0.2222222222222222,
              "#7201a8"
             ],
             [
              0.3333333333333333,
              "#9c179e"
             ],
             [
              0.4444444444444444,
              "#bd3786"
             ],
             [
              0.5555555555555556,
              "#d8576b"
             ],
             [
              0.6666666666666666,
              "#ed7953"
             ],
             [
              0.7777777777777778,
              "#fb9f3a"
             ],
             [
              0.8888888888888888,
              "#fdca26"
             ],
             [
              1,
              "#f0f921"
             ]
            ],
            "type": "surface"
           }
          ],
          "table": [
           {
            "cells": {
             "fill": {
              "color": "#EBF0F8"
             },
             "line": {
              "color": "white"
             }
            },
            "header": {
             "fill": {
              "color": "#C8D4E3"
             },
             "line": {
              "color": "white"
             }
            },
            "type": "table"
           }
          ]
         },
         "layout": {
          "annotationdefaults": {
           "arrowcolor": "#2a3f5f",
           "arrowhead": 0,
           "arrowwidth": 1
          },
          "autotypenumbers": "strict",
          "coloraxis": {
           "colorbar": {
            "outlinewidth": 0,
            "ticks": ""
           }
          },
          "colorscale": {
           "diverging": [
            [
             0,
             "#8e0152"
            ],
            [
             0.1,
             "#c51b7d"
            ],
            [
             0.2,
             "#de77ae"
            ],
            [
             0.3,
             "#f1b6da"
            ],
            [
             0.4,
             "#fde0ef"
            ],
            [
             0.5,
             "#f7f7f7"
            ],
            [
             0.6,
             "#e6f5d0"
            ],
            [
             0.7,
             "#b8e186"
            ],
            [
             0.8,
             "#7fbc41"
            ],
            [
             0.9,
             "#4d9221"
            ],
            [
             1,
             "#276419"
            ]
           ],
           "sequential": [
            [
             0,
             "#0d0887"
            ],
            [
             0.1111111111111111,
             "#46039f"
            ],
            [
             0.2222222222222222,
             "#7201a8"
            ],
            [
             0.3333333333333333,
             "#9c179e"
            ],
            [
             0.4444444444444444,
             "#bd3786"
            ],
            [
             0.5555555555555556,
             "#d8576b"
            ],
            [
             0.6666666666666666,
             "#ed7953"
            ],
            [
             0.7777777777777778,
             "#fb9f3a"
            ],
            [
             0.8888888888888888,
             "#fdca26"
            ],
            [
             1,
             "#f0f921"
            ]
           ],
           "sequentialminus": [
            [
             0,
             "#0d0887"
            ],
            [
             0.1111111111111111,
             "#46039f"
            ],
            [
             0.2222222222222222,
             "#7201a8"
            ],
            [
             0.3333333333333333,
             "#9c179e"
            ],
            [
             0.4444444444444444,
             "#bd3786"
            ],
            [
             0.5555555555555556,
             "#d8576b"
            ],
            [
             0.6666666666666666,
             "#ed7953"
            ],
            [
             0.7777777777777778,
             "#fb9f3a"
            ],
            [
             0.8888888888888888,
             "#fdca26"
            ],
            [
             1,
             "#f0f921"
            ]
           ]
          },
          "colorway": [
           "#636efa",
           "#EF553B",
           "#00cc96",
           "#ab63fa",
           "#FFA15A",
           "#19d3f3",
           "#FF6692",
           "#B6E880",
           "#FF97FF",
           "#FECB52"
          ],
          "font": {
           "color": "#2a3f5f"
          },
          "geo": {
           "bgcolor": "white",
           "lakecolor": "white",
           "landcolor": "#E5ECF6",
           "showlakes": true,
           "showland": true,
           "subunitcolor": "white"
          },
          "hoverlabel": {
           "align": "left"
          },
          "hovermode": "closest",
          "mapbox": {
           "style": "light"
          },
          "paper_bgcolor": "white",
          "plot_bgcolor": "#E5ECF6",
          "polar": {
           "angularaxis": {
            "gridcolor": "white",
            "linecolor": "white",
            "ticks": ""
           },
           "bgcolor": "#E5ECF6",
           "radialaxis": {
            "gridcolor": "white",
            "linecolor": "white",
            "ticks": ""
           }
          },
          "scene": {
           "xaxis": {
            "backgroundcolor": "#E5ECF6",
            "gridcolor": "white",
            "gridwidth": 2,
            "linecolor": "white",
            "showbackground": true,
            "ticks": "",
            "zerolinecolor": "white"
           },
           "yaxis": {
            "backgroundcolor": "#E5ECF6",
            "gridcolor": "white",
            "gridwidth": 2,
            "linecolor": "white",
            "showbackground": true,
            "ticks": "",
            "zerolinecolor": "white"
           },
           "zaxis": {
            "backgroundcolor": "#E5ECF6",
            "gridcolor": "white",
            "gridwidth": 2,
            "linecolor": "white",
            "showbackground": true,
            "ticks": "",
            "zerolinecolor": "white"
           }
          },
          "shapedefaults": {
           "line": {
            "color": "#2a3f5f"
           }
          },
          "ternary": {
           "aaxis": {
            "gridcolor": "white",
            "linecolor": "white",
            "ticks": ""
           },
           "baxis": {
            "gridcolor": "white",
            "linecolor": "white",
            "ticks": ""
           },
           "bgcolor": "#E5ECF6",
           "caxis": {
            "gridcolor": "white",
            "linecolor": "white",
            "ticks": ""
           }
          },
          "title": {
           "x": 0.05
          },
          "xaxis": {
           "automargin": true,
           "gridcolor": "white",
           "linecolor": "white",
           "ticks": "",
           "title": {
            "standoff": 15
           },
           "zerolinecolor": "white",
           "zerolinewidth": 2
          },
          "yaxis": {
           "automargin": true,
           "gridcolor": "white",
           "linecolor": "white",
           "ticks": "",
           "title": {
            "standoff": 15
           },
           "zerolinecolor": "white",
           "zerolinewidth": 2
          }
         }
        }
       }
      },
      "image/png": "[encoded data removed]",
      "text/html": [
       "<div>                            <div id=\"d7535e93-2e0e-4f2f-981d-70510a69adc4\" class=\"plotly-graph-div\" style=\"height:525px; width:100%;\"></div>            <script type=\"text/javascript\">                require([\"plotly\"], function(Plotly) {                    window.PLOTLYENV=window.PLOTLYENV || {};                                    if (document.getElementById(\"d7535e93-2e0e-4f2f-981d-70510a69adc4\")) {                    Plotly.newPlot(                        \"d7535e93-2e0e-4f2f-981d-70510a69adc4\",                        [{\"domain\":{\"x\":[0.0,1.0],\"y\":[0.0,1.0]},\"hovertemplate\":\"label=%{label}\\u003cbr\\u003eparent=%{parent}\\u003cextra\\u003e\\u003c\\u002fextra\\u003e\",\"labels\":[\"Lenguas\",\"Euskera\",\"Esperanto\",\"Latín clásico\",\"Gallego\",\"Yídish\",\"El euskera es la lengua viva\\u003cbr\\u003emás antigua de Europa. La mayoría\\u003cbr\\u003ede lingüistas, expertos e investigadores así\\u003cbr\\u003elo afirman. El euskera es una\\u003cbr\\u003elengua muy antigua cuyos orígenes aún\\u003cbr\\u003ese desconocen. Lingüistas e historiadores de\\u003cbr\\u003erenombre creen que puede ser descendiente\\u003cbr\\u003edirecto de la lengua hablada por\\u003cbr\\u003elos habitantes de las cuevas de\\u003cbr\\u003eAltamira, Ekain o Lascaux.\",\"El esperanto es la lengua planificada\\u003cbr\\u003einternacional más difundida y hablada en\\u003cbr\\u003eel mundo.​ El nombre proviene del\\u003cbr\\u003eseudónimo que L. L. Zamenhof, un\\u003cbr\\u003eoftalmólogo polaco, utilizó para publicar las\\u003cbr\\u003ebases del idioma en 1887.\",\"Podemos considerar que el latín clásico\\u003cbr\\u003ees la lengua hablada por las\\u003cbr\\u003eclases cultas romanas desde aproximadamente el\\u003cbr\\u003esiglo II a.C. hasta aproximadamente el\\u003cbr\\u003esiglo II d.C.\",\"El gallego es un idioma romance\\u003cbr\\u003ederivado del latín mientras que el\\u003cbr\\u003egaélico pertenece a la rama celta.\\u003cbr\\u003eLa similitud de sus nombres es\\u003cbr\\u003ealgo anecdótico, tienen tanto parecido como\\u003cbr\\u003eel inglés y las ingles.\",\"El yiddish es un idioma que\\u003cbr\\u003ealguna vez hablaron judíos en un\\u003cbr\\u003eárea que se extendía desde Alsacia\\u003cbr\\u003ehasta los Urales, influenciado e influenciado\\u003cbr\\u003epor los idiomas y culturas locales.\\u003cbr\\u003eEstuvo a punto de extinguirse en\\u003cbr\\u003eel siglo XX, cuando perdió a\\u003cbr\\u003ela mayoría de sus hablantes, principalmente\\u003cbr\\u003e(pero no sólo) a través del\\u003cbr\\u003eHolocausto.\",\"https:\\u002f\\u002fwww.bizkaiatalent.eus\\u002fen\\u002fpais-vasco-te-espera\\u002fsenas-de-identidad\\u002feuskera-antigua-europa\\u002f#:~:text=Euskera%20is%20the%20oldest%20living,of%20Altamira%2C%20Ekain%20or%20Lascaux\",\"https:\\u002f\\u002fes.wikipedia.org\\u002fwiki\\u002fEsperanto\",\"https:\\u002f\\u002fwww.uv.es\\u002fivorra\\u002fLatin\\u002fevolucion.htm\",\"https:\\u002f\\u002fes.quora.com\\u002fSe-parecen-el-idioma-ga%C3%A9lico-y-el-gallego#:~:text=El%20gallego%20es%20un%20idioma,el%20ingl%C3%A9s%20y%20las%20ingles\",\"https:\\u002f\\u002fwww.europarl.europa.eu\\u002fthinktank\\u002fen\\u002fdocument\\u002fEPRS_BRI(2022)698881#:~:text=Yiddish%20is%20a%20language%20once,not%20only%20%E2%80%93%20through%20the%20Holocaust\"],\"name\":\"\",\"parents\":[\"\",\"Lenguas\",\"Lenguas\",\"Lenguas\",\"Lenguas\",\"Lenguas\",\"Euskera\",\"Esperanto\",\"Latín clásico\",\"Gallego\",\"Yídish\",\"Euskera\",\"Esperanto\",\"Latín clásico\",\"Gallego\",\"Yídish\"],\"type\":\"treemap\"}],                        {\"template\":{\"data\":{\"histogram2dcontour\":[{\"type\":\"histogram2dcontour\",\"colorbar\":{\"outlinewidth\":0,\"ticks\":\"\"},\"colorscale\":[[0.0,\"#0d0887\"],[0.1111111111111111,\"#46039f\"],[0.2222222222222222,\"#7201a8\"],[0.3333333333333333,\"#9c179e\"],[0.4444444444444444,\"#bd3786\"],[0.5555555555555556,\"#d8576b\"],[0.6666666666666666,\"#ed7953\"],[0.7777777777777778,\"#fb9f3a\"],[0.8888888888888888,\"#fdca26\"],[1.0,\"#f0f921\"]]}],\"choropleth\":[{\"type\":\"choropleth\",\"colorbar\":{\"outlinewidth\":0,\"ticks\":\"\"}}],\"histogram2d\":[{\"type\":\"histogram2d\",\"colorbar\":{\"outlinewidth\":0,\"ticks\":\"\"},\"colorscale\":[[0.0,\"#0d0887\"],[0.1111111111111111,\"#46039f\"],[0.2222222222222222,\"#7201a8\"],[0.3333333333333333,\"#9c179e\"],[0.4444444444444444,\"#bd3786\"],[0.5555555555555556,\"#d8576b\"],[0.6666666666666666,\"#ed7953\"],[0.7777777777777778,\"#fb9f3a\"],[0.8888888888888888,\"#fdca26\"],[1.0,\"#f0f921\"]]}],\"heatmap\":[{\"type\":\"heatmap\",\"colorbar\":{\"outlinewidth\":0,\"ticks\":\"\"},\"colorscale\":[[0.0,\"#0d0887\"],[0.1111111111111111,\"#46039f\"],[0.2222222222222222,\"#7201a8\"],[0.3333333333333333,\"#9c179e\"],[0.4444444444444444,\"#bd3786\"],[0.5555555555555556,\"#d8576b\"],[0.6666666666666666,\"#ed7953\"],[0.7777777777777778,\"#fb9f3a\"],[0.8888888888888888,\"#fdca26\"],[1.0,\"#f0f921\"]]}],\"heatmapgl\":[{\"type\":\"heatmapgl\",\"colorbar\":{\"outlinewidth\":0,\"ticks\":\"\"},\"colorscale\":[[0.0,\"#0d0887\"],[0.1111111111111111,\"#46039f\"],[0.2222222222222222,\"#7201a8\"],[0.3333333333333333,\"#9c179e\"],[0.4444444444444444,\"#bd3786\"],[0.5555555555555556,\"#d8576b\"],[0.6666666666666666,\"#ed7953\"],[0.7777777777777778,\"#fb9f3a\"],[0.8888888888888888,\"#fdca26\"],[1.0,\"#f0f921\"]]}],\"contourcarpet\":[{\"type\":\"contourcarpet\",\"colorbar\":{\"outlinewidth\":0,\"ticks\":\"\"}}],\"contour\":[{\"type\":\"contour\",\"colorbar\":{\"outlinewidth\":0,\"ticks\":\"\"},\"colorscale\":[[0.0,\"#0d0887\"],[0.1111111111111111,\"#46039f\"],[0.2222222222222222,\"#7201a8\"],[0.3333333333333333,\"#9c179e\"],[0.4444444444444444,\"#bd3786\"],[0.5555555555555556,\"#d8576b\"],[0.6666666666666666,\"#ed7953\"],[0.7777777777777778,\"#fb9f3a\"],[0.8888888888888888,\"#fdca26\"],[1.0,\"#f0f921\"]]}],\"surface\":[{\"type\":\"surface\",\"colorbar\":{\"outlinewidth\":0,\"ticks\":\"\"},\"colorscale\":[[0.0,\"#0d0887\"],[0.1111111111111111,\"#46039f\"],[0.2222222222222222,\"#7201a8\"],[0.3333333333333333,\"#9c179e\"],[0.4444444444444444,\"#bd3786\"],[0.5555555555555556,\"#d8576b\"],[0.6666666666666666,\"#ed7953\"],[0.7777777777777778,\"#fb9f3a\"],[0.8888888888888888,\"#fdca26\"],[1.0,\"#f0f921\"]]}],\"mesh3d\":[{\"type\":\"mesh3d\",\"colorbar\":{\"outlinewidth\":0,\"ticks\":\"\"}}],\"scatter\":[{\"fillpattern\":{\"fillmode\":\"overlay\",\"size\":10,\"solidity\":0.2},\"type\":\"scatter\"}],\"parcoords\":[{\"type\":\"parcoords\",\"line\":{\"colorbar\":{\"outlinewidth\":0,\"ticks\":\"\"}}}],\"scatterpolargl\":[{\"type\":\"scatterpolargl\",\"marker\":{\"colorbar\":{\"outlinewidth\":0,\"ticks\":\"\"}}}],\"bar\":[{\"error_x\":{\"color\":\"#2a3f5f\"},\"error_y\":{\"color\":\"#2a3f5f\"},\"marker\":{\"line\":{\"color\":\"#E5ECF6\",\"width\":0.5},\"pattern\":{\"fillmode\":\"overlay\",\"size\":10,\"solidity\":0.2}},\"type\":\"bar\"}],\"scattergeo\":[{\"type\":\"scattergeo\",\"marker\":{\"colorbar\":{\"outlinewidth\":0,\"ticks\":\"\"}}}],\"scatterpolar\":[{\"type\":\"scatterpolar\",\"marker\":{\"colorbar\":{\"outlinewidth\":0,\"ticks\":\"\"}}}],\"histogram\":[{\"marker\":{\"pattern\":{\"fillmode\":\"overlay\",\"size\":10,\"solidity\":0.2}},\"type\":\"histogram\"}],\"scattergl\":[{\"type\":\"scattergl\",\"marker\":{\"colorbar\":{\"outlinewidth\":0,\"ticks\":\"\"}}}],\"scatter3d\":[{\"type\":\"scatter3d\",\"line\":{\"colorbar\":{\"outlinewidth\":0,\"ticks\":\"\"}},\"marker\":{\"colorbar\":{\"outlinewidth\":0,\"ticks\":\"\"}}}],\"scattermapbox\":[{\"type\":\"scattermapbox\",\"marker\":{\"colorbar\":{\"outlinewidth\":0,\"ticks\":\"\"}}}],\"scatterternary\":[{\"type\":\"scatterternary\",\"marker\":{\"colorbar\":{\"outlinewidth\":0,\"ticks\":\"\"}}}],\"scattercarpet\":[{\"type\":\"scattercarpet\",\"marker\":{\"colorbar\":{\"outlinewidth\":0,\"ticks\":\"\"}}}],\"carpet\":[{\"aaxis\":{\"endlinecolor\":\"#2a3f5f\",\"gridcolor\":\"white\",\"linecolor\":\"white\",\"minorgridcolor\":\"white\",\"startlinecolor\":\"#2a3f5f\"},\"baxis\":{\"endlinecolor\":\"#2a3f5f\",\"gridcolor\":\"white\",\"linecolor\":\"white\",\"minorgridcolor\":\"white\",\"startlinecolor\":\"#2a3f5f\"},\"type\":\"carpet\"}],\"table\":[{\"cells\":{\"fill\":{\"color\":\"#EBF0F8\"},\"line\":{\"color\":\"white\"}},\"header\":{\"fill\":{\"color\":\"#C8D4E3\"},\"line\":{\"color\":\"white\"}},\"type\":\"table\"}],\"barpolar\":[{\"marker\":{\"line\":{\"color\":\"#E5ECF6\",\"width\":0.5},\"pattern\":{\"fillmode\":\"overlay\",\"size\":10,\"solidity\":0.2}},\"type\":\"barpolar\"}],\"pie\":[{\"automargin\":true,\"type\":\"pie\"}]},\"layout\":{\"autotypenumbers\":\"strict\",\"colorway\":[\"#636efa\",\"#EF553B\",\"#00cc96\",\"#ab63fa\",\"#FFA15A\",\"#19d3f3\",\"#FF6692\",\"#B6E880\",\"#FF97FF\",\"#FECB52\"],\"font\":{\"color\":\"#2a3f5f\"},\"hovermode\":\"closest\",\"hoverlabel\":{\"align\":\"left\"},\"paper_bgcolor\":\"white\",\"plot_bgcolor\":\"#E5ECF6\",\"polar\":{\"bgcolor\":\"#E5ECF6\",\"angularaxis\":{\"gridcolor\":\"white\",\"linecolor\":\"white\",\"ticks\":\"\"},\"radialaxis\":{\"gridcolor\":\"white\",\"linecolor\":\"white\",\"ticks\":\"\"}},\"ternary\":{\"bgcolor\":\"#E5ECF6\",\"aaxis\":{\"gridcolor\":\"white\",\"linecolor\":\"white\",\"ticks\":\"\"},\"baxis\":{\"gridcolor\":\"white\",\"linecolor\":\"white\",\"ticks\":\"\"},\"caxis\":{\"gridcolor\":\"white\",\"linecolor\":\"white\",\"ticks\":\"\"}},\"coloraxis\":{\"colorbar\":{\"outlinewidth\":0,\"ticks\":\"\"}},\"colorscale\":{\"sequential\":[[0.0,\"#0d0887\"],[0.1111111111111111,\"#46039f\"],[0.2222222222222222,\"#7201a8\"],[0.3333333333333333,\"#9c179e\"],[0.4444444444444444,\"#bd3786\"],[0.5555555555555556,\"#d8576b\"],[0.6666666666666666,\"#ed7953\"],[0.7777777777777778,\"#fb9f3a\"],[0.8888888888888888,\"#fdca26\"],[1.0,\"#f0f921\"]],\"sequentialminus\":[[0.0,\"#0d0887\"],[0.1111111111111111,\"#46039f\"],[0.2222222222222222,\"#7201a8\"],[0.3333333333333333,\"#9c179e\"],[0.4444444444444444,\"#bd3786\"],[0.5555555555555556,\"#d8576b\"],[0.6666666666666666,\"#ed7953\"],[0.7777777777777778,\"#fb9f3a\"],[0.8888888888888888,\"#fdca26\"],[1.0,\"#f0f921\"]],\"diverging\":[[0,\"#8e0152\"],[0.1,\"#c51b7d\"],[0.2,\"#de77ae\"],[0.3,\"#f1b6da\"],[0.4,\"#fde0ef\"],[0.5,\"#f7f7f7\"],[0.6,\"#e6f5d0\"],[0.7,\"#b8e186\"],[0.8,\"#7fbc41\"],[0.9,\"#4d9221\"],[1,\"#276419\"]]},\"xaxis\":{\"gridcolor\":\"white\",\"linecolor\":\"white\",\"ticks\":\"\",\"title\":{\"standoff\":15},\"zerolinecolor\":\"white\",\"automargin\":true,\"zerolinewidth\":2},\"yaxis\":{\"gridcolor\":\"white\",\"linecolor\":\"white\",\"ticks\":\"\",\"title\":{\"standoff\":15},\"zerolinecolor\":\"white\",\"automargin\":true,\"zerolinewidth\":2},\"scene\":{\"xaxis\":{\"backgroundcolor\":\"#E5ECF6\",\"gridcolor\":\"white\",\"linecolor\":\"white\",\"showbackground\":true,\"ticks\":\"\",\"zerolinecolor\":\"white\",\"gridwidth\":2},\"yaxis\":{\"backgroundcolor\":\"#E5ECF6\",\"gridcolor\":\"white\",\"linecolor\":\"white\",\"showbackground\":true,\"ticks\":\"\",\"zerolinecolor\":\"white\",\"gridwidth\":2},\"zaxis\":{\"backgroundcolor\":\"#E5ECF6\",\"gridcolor\":\"white\",\"linecolor\":\"white\",\"showbackground\":true,\"ticks\":\"\",\"zerolinecolor\":\"white\",\"gridwidth\":2}},\"shapedefaults\":{\"line\":{\"color\":\"#2a3f5f\"}},\"annotationdefaults\":{\"arrowcolor\":\"#2a3f5f\",\"arrowhead\":0,\"arrowwidth\":1},\"geo\":{\"bgcolor\":\"white\",\"landcolor\":\"#E5ECF6\",\"subunitcolor\":\"white\",\"showland\":true,\"showlakes\":true,\"lakecolor\":\"white\"},\"title\":{\"x\":0.05},\"mapbox\":{\"style\":\"light\"}}},\"legend\":{\"tracegroupgap\":0},\"margin\":{\"t\":60}},                        {\"responsive\": true}                    ).then(function(){\n",
       "                            \n",
       "var gd = document.getElementById('d7535e93-2e0e-4f2f-981d-70510a69adc4');\n",
       "var x = new MutationObserver(function (mutations, observer) {{\n",
       "        var display = window.getComputedStyle(gd).display;\n",
       "        if (!display || display === 'none') {{\n",
       "            console.log([gd, 'removed!']);\n",
       "            Plotly.purge(gd);\n",
       "            observer.disconnect();\n",
       "        }}\n",
       "}});\n",
       "\n",
       "// Listen for the removal of the full notebook cells\n",
       "var notebookContainer = gd.closest('#notebook-container');\n",
       "if (notebookContainer) {{\n",
       "    x.observe(notebookContainer, {childList: true});\n",
       "}}\n",
       "\n",
       "// Listen for the clearing of the current output cell\n",
       "var outputEl = gd.closest('.output');\n",
       "if (outputEl) {{\n",
       "    x.observe(outputEl, {childList: true});\n",
       "}}\n",
       "\n",
       "                        })                };                });            </script>        </div>"
      ]
     },
     "metadata": {},
     "output_type": "display_data"
    }
   ],
   "source": [
    "fig.show()"
   ]
  },
  {
   "cell_type": "markdown",
   "id": "1784d4c7-b6e5-4f0c-a681-bda55d9b947c",
   "metadata": {},
   "source": [
    "## ¿Cómo podríamos fomentar más el interés en la lectura del Quijote?"
   ]
  },
  {
   "cell_type": "markdown",
   "id": "f678135e-1053-4432-970c-e35c7d19fd56",
   "metadata": {},
   "source": [
    "- ¡Creando interactivos!\n",
    "- Haciendo más películas animadas y no animadas"
   ]
  }
 ],
 "metadata": {
  "kernelspec": {
   "display_name": "Python 3 (ipykernel)",
   "language": "python",
   "name": "python3"
  },
  "language_info": {
   "codemirror_mode": {
    "name": "ipython",
    "version": 3
   },
   "file_extension": ".py",
   "mimetype": "text/x-python",
   "name": "python",
   "nbconvert_exporter": "python",
   "pygments_lexer": "ipython3",
   "version": "3.9.19"
  }
 },
 "nbformat": 4,
 "nbformat_minor": 5
}
